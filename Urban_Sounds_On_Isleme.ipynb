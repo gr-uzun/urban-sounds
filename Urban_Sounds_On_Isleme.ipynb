{
  "nbformat": 4,
  "nbformat_minor": 0,
  "metadata": {
    "colab": {
      "provenance": [],
      "collapsed_sections": [],
      "mount_file_id": "https://github.com/gr-uzun/urban-sounds/blob/main/Urban_Sounds_On_Isleme.ipynb",
      "authorship_tag": "ABX9TyMGQEF30b38jcu5tTZsxYnp",
      "include_colab_link": true
    },
    "kernelspec": {
      "name": "python3",
      "display_name": "Python 3"
    },
    "language_info": {
      "name": "python"
    }
  },
  "cells": [
    {
      "cell_type": "markdown",
      "metadata": {
        "id": "view-in-github",
        "colab_type": "text"
      },
      "source": [
        "<a href=\"https://colab.research.google.com/github/gr-uzun/urban-sounds/blob/main/Urban_Sounds_On_Isleme.ipynb\" target=\"_parent\"><img src=\"https://colab.research.google.com/assets/colab-badge.svg\" alt=\"Open In Colab\"/></a>"
      ]
    },
    {
      "cell_type": "markdown",
      "source": [
        "**Önişleme - Notebook**\n",
        "\n",
        "* Görüntüleri (spectrogramları) sırasıyla okuyarak, grayscale dönüşümü, resizing\n",
        "ve normalizasyon yapın.\n",
        "* Görüntüleri ait oldukları etiketlerle birlikte, [görüntü, etiket] formatında bir\n",
        "listeye ekleyin.\n",
        "* Bu listeyi kullanarak, X_train, y_train, X_val, y_val, X_test ve y_test veri setlerini\n",
        "oluşturun.\n",
        "* Bu veri setlerini bilgisayarınıza kaydedin."
      ],
      "metadata": {
        "id": "GxBQpzsaI0TG"
      }
    },
    {
      "cell_type": "markdown",
      "source": [
        "**Imports**"
      ],
      "metadata": {
        "id": "snpVxRSrSo5M"
      }
    },
    {
      "cell_type": "code",
      "source": [
        "# Import TensorFlow\n",
        "import tensorflow as tf\n",
        "\n",
        "# Import Numpy ,Pandas and Matplotlib\n",
        "import numpy as np\n",
        "import pandas as pd\n",
        "import matplotlib.pyplot as plt\n",
        "\n",
        "# import openCV\n",
        "import cv2\n",
        "\n",
        "# Import Label Encoder and train_test_split\n",
        "from sklearn.preprocessing import LabelEncoder,minmax_scale\n",
        "from sklearn.model_selection import train_test_split"
      ],
      "metadata": {
        "id": "XIwqr4RDq5Ph"
      },
      "execution_count": 51,
      "outputs": []
    },
    {
      "cell_type": "markdown",
      "source": [
        "**Metadata yı oku.**\n",
        "\n",
        "Google Drive işlemleri :\n",
        "* **./drive/MyDrive/UrbanSound8K** dizini oluşturuldu.\n",
        "* Yeni folder **./drive/MyDrive/UrbanSound_Spectrograms** dizini olusturuldu.\n",
        "* spectrogram kısayolu buraya kopyalandı.\n",
        "\n",
        "https://drive.google.com/drive/folders/1xey3vAVNDjWxnSfhuUsf_5dGANZWmCog\n",
        "\n",
        "* Google Drive mount edildi.\n"
      ],
      "metadata": {
        "id": "7zTBapGErK1x"
      }
    },
    {
      "cell_type": "code",
      "source": [
        "# Read the data from UrbanSound8k.csv\n",
        "data_frame = pd.read_csv(\"./drive/MyDrive/UrbanSound8K/metadata/UrbanSound8K.csv\")\n"
      ],
      "metadata": {
        "id": "rVIyTT8-sG0H"
      },
      "execution_count": 17,
      "outputs": []
    },
    {
      "cell_type": "code",
      "source": [
        "print(type(data_frame))\n",
        "print(data_frame.shape)"
      ],
      "metadata": {
        "colab": {
          "base_uri": "https://localhost:8080/"
        },
        "id": "m0lHHKj4wdeB",
        "outputId": "fe087409-aef8-4dd4-df64-4e0cbb084567"
      },
      "execution_count": 18,
      "outputs": [
        {
          "output_type": "stream",
          "name": "stdout",
          "text": [
            "<class 'pandas.core.frame.DataFrame'>\n",
            "(8732, 8)\n"
          ]
        }
      ]
    },
    {
      "cell_type": "code",
      "source": [
        "#Use the .info() function to get more details\n",
        "data_frame.info()"
      ],
      "metadata": {
        "colab": {
          "base_uri": "https://localhost:8080/"
        },
        "id": "iVRWoTJtxfDv",
        "outputId": "f11344c0-e367-4f27-8e35-957fda250b62"
      },
      "execution_count": 19,
      "outputs": [
        {
          "output_type": "stream",
          "name": "stdout",
          "text": [
            "<class 'pandas.core.frame.DataFrame'>\n",
            "RangeIndex: 8732 entries, 0 to 8731\n",
            "Data columns (total 8 columns):\n",
            " #   Column           Non-Null Count  Dtype  \n",
            "---  ------           --------------  -----  \n",
            " 0   slice_file_name  8732 non-null   object \n",
            " 1   fsID             8732 non-null   int64  \n",
            " 2   start            8732 non-null   float64\n",
            " 3   end              8732 non-null   float64\n",
            " 4   salience         8732 non-null   int64  \n",
            " 5   fold             8732 non-null   int64  \n",
            " 6   classID          8732 non-null   int64  \n",
            " 7   class            8732 non-null   object \n",
            "dtypes: float64(2), int64(4), object(2)\n",
            "memory usage: 545.9+ KB\n"
          ]
        }
      ]
    },
    {
      "cell_type": "code",
      "source": [
        "data_frame.shape"
      ],
      "metadata": {
        "id": "b1xjrUlrGShI",
        "outputId": "ba2ed16b-b12a-4936-fec3-b241c22a8f3f",
        "colab": {
          "base_uri": "https://localhost:8080/"
        }
      },
      "execution_count": 20,
      "outputs": [
        {
          "output_type": "execute_result",
          "data": {
            "text/plain": [
              "(8732, 8)"
            ]
          },
          "metadata": {},
          "execution_count": 20
        }
      ]
    },
    {
      "cell_type": "code",
      "source": [
        "#Use the .head() function to check the dataset\n",
        "data_frame.head()"
      ],
      "metadata": {
        "colab": {
          "base_uri": "https://localhost:8080/",
          "height": 206
        },
        "id": "Y_ZFzdhJwfOI",
        "outputId": "13a85e3c-9a59-4a53-e8fa-3c53fca57a41"
      },
      "execution_count": 21,
      "outputs": [
        {
          "output_type": "execute_result",
          "data": {
            "text/plain": [
              "      slice_file_name    fsID  start        end  salience  fold  classID  \\\n",
              "0    100032-3-0-0.wav  100032    0.0   0.317551         1     5        3   \n",
              "1  100263-2-0-117.wav  100263   58.5  62.500000         1     5        2   \n",
              "2  100263-2-0-121.wav  100263   60.5  64.500000         1     5        2   \n",
              "3  100263-2-0-126.wav  100263   63.0  67.000000         1     5        2   \n",
              "4  100263-2-0-137.wav  100263   68.5  72.500000         1     5        2   \n",
              "\n",
              "              class  \n",
              "0          dog_bark  \n",
              "1  children_playing  \n",
              "2  children_playing  \n",
              "3  children_playing  \n",
              "4  children_playing  "
            ],
            "text/html": [
              "\n",
              "  <div id=\"df-bdaa13b8-8a68-48db-b3b7-a9bb90ebffc4\">\n",
              "    <div class=\"colab-df-container\">\n",
              "      <div>\n",
              "<style scoped>\n",
              "    .dataframe tbody tr th:only-of-type {\n",
              "        vertical-align: middle;\n",
              "    }\n",
              "\n",
              "    .dataframe tbody tr th {\n",
              "        vertical-align: top;\n",
              "    }\n",
              "\n",
              "    .dataframe thead th {\n",
              "        text-align: right;\n",
              "    }\n",
              "</style>\n",
              "<table border=\"1\" class=\"dataframe\">\n",
              "  <thead>\n",
              "    <tr style=\"text-align: right;\">\n",
              "      <th></th>\n",
              "      <th>slice_file_name</th>\n",
              "      <th>fsID</th>\n",
              "      <th>start</th>\n",
              "      <th>end</th>\n",
              "      <th>salience</th>\n",
              "      <th>fold</th>\n",
              "      <th>classID</th>\n",
              "      <th>class</th>\n",
              "    </tr>\n",
              "  </thead>\n",
              "  <tbody>\n",
              "    <tr>\n",
              "      <th>0</th>\n",
              "      <td>100032-3-0-0.wav</td>\n",
              "      <td>100032</td>\n",
              "      <td>0.0</td>\n",
              "      <td>0.317551</td>\n",
              "      <td>1</td>\n",
              "      <td>5</td>\n",
              "      <td>3</td>\n",
              "      <td>dog_bark</td>\n",
              "    </tr>\n",
              "    <tr>\n",
              "      <th>1</th>\n",
              "      <td>100263-2-0-117.wav</td>\n",
              "      <td>100263</td>\n",
              "      <td>58.5</td>\n",
              "      <td>62.500000</td>\n",
              "      <td>1</td>\n",
              "      <td>5</td>\n",
              "      <td>2</td>\n",
              "      <td>children_playing</td>\n",
              "    </tr>\n",
              "    <tr>\n",
              "      <th>2</th>\n",
              "      <td>100263-2-0-121.wav</td>\n",
              "      <td>100263</td>\n",
              "      <td>60.5</td>\n",
              "      <td>64.500000</td>\n",
              "      <td>1</td>\n",
              "      <td>5</td>\n",
              "      <td>2</td>\n",
              "      <td>children_playing</td>\n",
              "    </tr>\n",
              "    <tr>\n",
              "      <th>3</th>\n",
              "      <td>100263-2-0-126.wav</td>\n",
              "      <td>100263</td>\n",
              "      <td>63.0</td>\n",
              "      <td>67.000000</td>\n",
              "      <td>1</td>\n",
              "      <td>5</td>\n",
              "      <td>2</td>\n",
              "      <td>children_playing</td>\n",
              "    </tr>\n",
              "    <tr>\n",
              "      <th>4</th>\n",
              "      <td>100263-2-0-137.wav</td>\n",
              "      <td>100263</td>\n",
              "      <td>68.5</td>\n",
              "      <td>72.500000</td>\n",
              "      <td>1</td>\n",
              "      <td>5</td>\n",
              "      <td>2</td>\n",
              "      <td>children_playing</td>\n",
              "    </tr>\n",
              "  </tbody>\n",
              "</table>\n",
              "</div>\n",
              "      <button class=\"colab-df-convert\" onclick=\"convertToInteractive('df-bdaa13b8-8a68-48db-b3b7-a9bb90ebffc4')\"\n",
              "              title=\"Convert this dataframe to an interactive table.\"\n",
              "              style=\"display:none;\">\n",
              "        \n",
              "  <svg xmlns=\"http://www.w3.org/2000/svg\" height=\"24px\"viewBox=\"0 0 24 24\"\n",
              "       width=\"24px\">\n",
              "    <path d=\"M0 0h24v24H0V0z\" fill=\"none\"/>\n",
              "    <path d=\"M18.56 5.44l.94 2.06.94-2.06 2.06-.94-2.06-.94-.94-2.06-.94 2.06-2.06.94zm-11 1L8.5 8.5l.94-2.06 2.06-.94-2.06-.94L8.5 2.5l-.94 2.06-2.06.94zm10 10l.94 2.06.94-2.06 2.06-.94-2.06-.94-.94-2.06-.94 2.06-2.06.94z\"/><path d=\"M17.41 7.96l-1.37-1.37c-.4-.4-.92-.59-1.43-.59-.52 0-1.04.2-1.43.59L10.3 9.45l-7.72 7.72c-.78.78-.78 2.05 0 2.83L4 21.41c.39.39.9.59 1.41.59.51 0 1.02-.2 1.41-.59l7.78-7.78 2.81-2.81c.8-.78.8-2.07 0-2.86zM5.41 20L4 18.59l7.72-7.72 1.47 1.35L5.41 20z\"/>\n",
              "  </svg>\n",
              "      </button>\n",
              "      \n",
              "  <style>\n",
              "    .colab-df-container {\n",
              "      display:flex;\n",
              "      flex-wrap:wrap;\n",
              "      gap: 12px;\n",
              "    }\n",
              "\n",
              "    .colab-df-convert {\n",
              "      background-color: #E8F0FE;\n",
              "      border: none;\n",
              "      border-radius: 50%;\n",
              "      cursor: pointer;\n",
              "      display: none;\n",
              "      fill: #1967D2;\n",
              "      height: 32px;\n",
              "      padding: 0 0 0 0;\n",
              "      width: 32px;\n",
              "    }\n",
              "\n",
              "    .colab-df-convert:hover {\n",
              "      background-color: #E2EBFA;\n",
              "      box-shadow: 0px 1px 2px rgba(60, 64, 67, 0.3), 0px 1px 3px 1px rgba(60, 64, 67, 0.15);\n",
              "      fill: #174EA6;\n",
              "    }\n",
              "\n",
              "    [theme=dark] .colab-df-convert {\n",
              "      background-color: #3B4455;\n",
              "      fill: #D2E3FC;\n",
              "    }\n",
              "\n",
              "    [theme=dark] .colab-df-convert:hover {\n",
              "      background-color: #434B5C;\n",
              "      box-shadow: 0px 1px 3px 1px rgba(0, 0, 0, 0.15);\n",
              "      filter: drop-shadow(0px 1px 2px rgba(0, 0, 0, 0.3));\n",
              "      fill: #FFFFFF;\n",
              "    }\n",
              "  </style>\n",
              "\n",
              "      <script>\n",
              "        const buttonEl =\n",
              "          document.querySelector('#df-bdaa13b8-8a68-48db-b3b7-a9bb90ebffc4 button.colab-df-convert');\n",
              "        buttonEl.style.display =\n",
              "          google.colab.kernel.accessAllowed ? 'block' : 'none';\n",
              "\n",
              "        async function convertToInteractive(key) {\n",
              "          const element = document.querySelector('#df-bdaa13b8-8a68-48db-b3b7-a9bb90ebffc4');\n",
              "          const dataTable =\n",
              "            await google.colab.kernel.invokeFunction('convertToInteractive',\n",
              "                                                     [key], {});\n",
              "          if (!dataTable) return;\n",
              "\n",
              "          const docLinkHtml = 'Like what you see? Visit the ' +\n",
              "            '<a target=\"_blank\" href=https://colab.research.google.com/notebooks/data_table.ipynb>data table notebook</a>'\n",
              "            + ' to learn more about interactive tables.';\n",
              "          element.innerHTML = '';\n",
              "          dataTable['output_type'] = 'display_data';\n",
              "          await google.colab.output.renderOutput(dataTable, element);\n",
              "          const docLink = document.createElement('div');\n",
              "          docLink.innerHTML = docLinkHtml;\n",
              "          element.appendChild(docLink);\n",
              "        }\n",
              "      </script>\n",
              "    </div>\n",
              "  </div>\n",
              "  "
            ]
          },
          "metadata": {},
          "execution_count": 21
        }
      ]
    },
    {
      "cell_type": "code",
      "source": [
        "data_frame.tail()"
      ],
      "metadata": {
        "colab": {
          "base_uri": "https://localhost:8080/",
          "height": 206
        },
        "id": "DE2I4Uofw7PQ",
        "outputId": "6a8732a4-b536-4f57-e8f0-e2933f79e913"
      },
      "execution_count": 22,
      "outputs": [
        {
          "output_type": "execute_result",
          "data": {
            "text/plain": [
              "      slice_file_name   fsID       start         end  salience  fold  classID  \\\n",
              "8727  99812-1-2-0.wav  99812  159.522205  163.522205         2     7        1   \n",
              "8728  99812-1-3-0.wav  99812  181.142431  183.284976         2     7        1   \n",
              "8729  99812-1-4-0.wav  99812  242.691902  246.197885         2     7        1   \n",
              "8730  99812-1-5-0.wav  99812  253.209850  255.741948         2     7        1   \n",
              "8731  99812-1-6-0.wav  99812  332.289233  334.821332         2     7        1   \n",
              "\n",
              "         class  \n",
              "8727  car_horn  \n",
              "8728  car_horn  \n",
              "8729  car_horn  \n",
              "8730  car_horn  \n",
              "8731  car_horn  "
            ],
            "text/html": [
              "\n",
              "  <div id=\"df-72805554-3f2e-4eaa-80b3-22088b6a5a00\">\n",
              "    <div class=\"colab-df-container\">\n",
              "      <div>\n",
              "<style scoped>\n",
              "    .dataframe tbody tr th:only-of-type {\n",
              "        vertical-align: middle;\n",
              "    }\n",
              "\n",
              "    .dataframe tbody tr th {\n",
              "        vertical-align: top;\n",
              "    }\n",
              "\n",
              "    .dataframe thead th {\n",
              "        text-align: right;\n",
              "    }\n",
              "</style>\n",
              "<table border=\"1\" class=\"dataframe\">\n",
              "  <thead>\n",
              "    <tr style=\"text-align: right;\">\n",
              "      <th></th>\n",
              "      <th>slice_file_name</th>\n",
              "      <th>fsID</th>\n",
              "      <th>start</th>\n",
              "      <th>end</th>\n",
              "      <th>salience</th>\n",
              "      <th>fold</th>\n",
              "      <th>classID</th>\n",
              "      <th>class</th>\n",
              "    </tr>\n",
              "  </thead>\n",
              "  <tbody>\n",
              "    <tr>\n",
              "      <th>8727</th>\n",
              "      <td>99812-1-2-0.wav</td>\n",
              "      <td>99812</td>\n",
              "      <td>159.522205</td>\n",
              "      <td>163.522205</td>\n",
              "      <td>2</td>\n",
              "      <td>7</td>\n",
              "      <td>1</td>\n",
              "      <td>car_horn</td>\n",
              "    </tr>\n",
              "    <tr>\n",
              "      <th>8728</th>\n",
              "      <td>99812-1-3-0.wav</td>\n",
              "      <td>99812</td>\n",
              "      <td>181.142431</td>\n",
              "      <td>183.284976</td>\n",
              "      <td>2</td>\n",
              "      <td>7</td>\n",
              "      <td>1</td>\n",
              "      <td>car_horn</td>\n",
              "    </tr>\n",
              "    <tr>\n",
              "      <th>8729</th>\n",
              "      <td>99812-1-4-0.wav</td>\n",
              "      <td>99812</td>\n",
              "      <td>242.691902</td>\n",
              "      <td>246.197885</td>\n",
              "      <td>2</td>\n",
              "      <td>7</td>\n",
              "      <td>1</td>\n",
              "      <td>car_horn</td>\n",
              "    </tr>\n",
              "    <tr>\n",
              "      <th>8730</th>\n",
              "      <td>99812-1-5-0.wav</td>\n",
              "      <td>99812</td>\n",
              "      <td>253.209850</td>\n",
              "      <td>255.741948</td>\n",
              "      <td>2</td>\n",
              "      <td>7</td>\n",
              "      <td>1</td>\n",
              "      <td>car_horn</td>\n",
              "    </tr>\n",
              "    <tr>\n",
              "      <th>8731</th>\n",
              "      <td>99812-1-6-0.wav</td>\n",
              "      <td>99812</td>\n",
              "      <td>332.289233</td>\n",
              "      <td>334.821332</td>\n",
              "      <td>2</td>\n",
              "      <td>7</td>\n",
              "      <td>1</td>\n",
              "      <td>car_horn</td>\n",
              "    </tr>\n",
              "  </tbody>\n",
              "</table>\n",
              "</div>\n",
              "      <button class=\"colab-df-convert\" onclick=\"convertToInteractive('df-72805554-3f2e-4eaa-80b3-22088b6a5a00')\"\n",
              "              title=\"Convert this dataframe to an interactive table.\"\n",
              "              style=\"display:none;\">\n",
              "        \n",
              "  <svg xmlns=\"http://www.w3.org/2000/svg\" height=\"24px\"viewBox=\"0 0 24 24\"\n",
              "       width=\"24px\">\n",
              "    <path d=\"M0 0h24v24H0V0z\" fill=\"none\"/>\n",
              "    <path d=\"M18.56 5.44l.94 2.06.94-2.06 2.06-.94-2.06-.94-.94-2.06-.94 2.06-2.06.94zm-11 1L8.5 8.5l.94-2.06 2.06-.94-2.06-.94L8.5 2.5l-.94 2.06-2.06.94zm10 10l.94 2.06.94-2.06 2.06-.94-2.06-.94-.94-2.06-.94 2.06-2.06.94z\"/><path d=\"M17.41 7.96l-1.37-1.37c-.4-.4-.92-.59-1.43-.59-.52 0-1.04.2-1.43.59L10.3 9.45l-7.72 7.72c-.78.78-.78 2.05 0 2.83L4 21.41c.39.39.9.59 1.41.59.51 0 1.02-.2 1.41-.59l7.78-7.78 2.81-2.81c.8-.78.8-2.07 0-2.86zM5.41 20L4 18.59l7.72-7.72 1.47 1.35L5.41 20z\"/>\n",
              "  </svg>\n",
              "      </button>\n",
              "      \n",
              "  <style>\n",
              "    .colab-df-container {\n",
              "      display:flex;\n",
              "      flex-wrap:wrap;\n",
              "      gap: 12px;\n",
              "    }\n",
              "\n",
              "    .colab-df-convert {\n",
              "      background-color: #E8F0FE;\n",
              "      border: none;\n",
              "      border-radius: 50%;\n",
              "      cursor: pointer;\n",
              "      display: none;\n",
              "      fill: #1967D2;\n",
              "      height: 32px;\n",
              "      padding: 0 0 0 0;\n",
              "      width: 32px;\n",
              "    }\n",
              "\n",
              "    .colab-df-convert:hover {\n",
              "      background-color: #E2EBFA;\n",
              "      box-shadow: 0px 1px 2px rgba(60, 64, 67, 0.3), 0px 1px 3px 1px rgba(60, 64, 67, 0.15);\n",
              "      fill: #174EA6;\n",
              "    }\n",
              "\n",
              "    [theme=dark] .colab-df-convert {\n",
              "      background-color: #3B4455;\n",
              "      fill: #D2E3FC;\n",
              "    }\n",
              "\n",
              "    [theme=dark] .colab-df-convert:hover {\n",
              "      background-color: #434B5C;\n",
              "      box-shadow: 0px 1px 3px 1px rgba(0, 0, 0, 0.15);\n",
              "      filter: drop-shadow(0px 1px 2px rgba(0, 0, 0, 0.3));\n",
              "      fill: #FFFFFF;\n",
              "    }\n",
              "  </style>\n",
              "\n",
              "      <script>\n",
              "        const buttonEl =\n",
              "          document.querySelector('#df-72805554-3f2e-4eaa-80b3-22088b6a5a00 button.colab-df-convert');\n",
              "        buttonEl.style.display =\n",
              "          google.colab.kernel.accessAllowed ? 'block' : 'none';\n",
              "\n",
              "        async function convertToInteractive(key) {\n",
              "          const element = document.querySelector('#df-72805554-3f2e-4eaa-80b3-22088b6a5a00');\n",
              "          const dataTable =\n",
              "            await google.colab.kernel.invokeFunction('convertToInteractive',\n",
              "                                                     [key], {});\n",
              "          if (!dataTable) return;\n",
              "\n",
              "          const docLinkHtml = 'Like what you see? Visit the ' +\n",
              "            '<a target=\"_blank\" href=https://colab.research.google.com/notebooks/data_table.ipynb>data table notebook</a>'\n",
              "            + ' to learn more about interactive tables.';\n",
              "          element.innerHTML = '';\n",
              "          dataTable['output_type'] = 'display_data';\n",
              "          await google.colab.output.renderOutput(dataTable, element);\n",
              "          const docLink = document.createElement('div');\n",
              "          docLink.innerHTML = docLinkHtml;\n",
              "          element.appendChild(docLink);\n",
              "        }\n",
              "      </script>\n",
              "    </div>\n",
              "  </div>\n",
              "  "
            ]
          },
          "metadata": {},
          "execution_count": 22
        }
      ]
    },
    {
      "cell_type": "code",
      "source": [
        "image_width = 25\n",
        "image_height = 25"
      ],
      "metadata": {
        "id": "b1xomx4K4C9m"
      },
      "execution_count": 23,
      "outputs": []
    },
    {
      "cell_type": "code",
      "source": [
        "# read image file,resize,then get gray scaled ,normalized_image\n",
        "def get_normalized_image(image_file) :\n",
        "\n",
        "  #reading the image to be normalized using imread() function\n",
        "  image_read = cv2.imread(image_file)\n",
        "\n",
        "  # resize image by specifying custom width and height\n",
        "  image_resized = cv2.resize(image_read, (image_width, image_height))\n",
        "\n",
        "  # converting the image to grayscale image\n",
        "  gray_image = cv2.cvtColor(image_resized , cv2.COLOR_BGR2GRAY)\n",
        "\n",
        "  #setting the array for resulting image after normalization\n",
        "  result_image = np.zeros((image_width, image_height))\n",
        "\n",
        "  #normalizing the given image using normalize() function\n",
        "  normalized_image = cv2.normalize(gray_image, result_image, 0, 100, cv2.NORM_MINMAX)\n",
        "\n",
        "  return normalized_image"
      ],
      "metadata": {
        "id": "sDSYxEqCpVL6"
      },
      "execution_count": 24,
      "outputs": []
    },
    {
      "cell_type": "markdown",
      "source": [
        "**Read one spectrogram**\n"
      ],
      "metadata": {
        "id": "BTSujl0evty9"
      }
    },
    {
      "cell_type": "code",
      "source": [
        "normalized_image = get_normalized_image('./drive/MyDrive/UrbanSound_Spectrograms/spectrograms/2/100263-2-0-117.png')\n",
        "\n",
        "print(type(normalized_image))\n",
        "\n",
        "print (normalized_image.shape)"
      ],
      "metadata": {
        "colab": {
          "base_uri": "https://localhost:8080/"
        },
        "id": "OtdJUlKfrLkI",
        "outputId": "fae68ff5-70f4-4447-fdab-a4fc9ece1d74"
      },
      "execution_count": 25,
      "outputs": [
        {
          "output_type": "stream",
          "name": "stdout",
          "text": [
            "<class 'numpy.ndarray'>\n",
            "(25, 25)\n"
          ]
        }
      ]
    },
    {
      "cell_type": "code",
      "source": [
        "#displaying the normalized image as the output on the screen\n",
        "plt.imshow(normalized_image, cmap=\"gray\")"
      ],
      "metadata": {
        "colab": {
          "base_uri": "https://localhost:8080/",
          "height": 282
        },
        "id": "Q5rkZaeIVl0C",
        "outputId": "50c020a8-ee18-4285-d3eb-f6eb8add190c"
      },
      "execution_count": 26,
      "outputs": [
        {
          "output_type": "execute_result",
          "data": {
            "text/plain": [
              "<matplotlib.image.AxesImage at 0x7f174c83a190>"
            ]
          },
          "metadata": {},
          "execution_count": 26
        },
        {
          "output_type": "display_data",
          "data": {
            "text/plain": [
              "<Figure size 432x288 with 1 Axes>"
            ],
            "image/png": "[encoded data removed]"
          },
          "metadata": {
            "needs_background": "light"
          }
        }
      ]
    },
    {
      "cell_type": "markdown",
      "source": [
        "**Read all files from data frame (metadata)**"
      ],
      "metadata": {
        "id": "blZ1e1tHs3BV"
      }
    },
    {
      "cell_type": "code",
      "source": [
        "#Use the .info() function to get more details\n",
        "data_frame.info()"
      ],
      "metadata": {
        "colab": {
          "base_uri": "https://localhost:8080/"
        },
        "id": "Yu7usX5mzGZi",
        "outputId": "b7b77be2-c8ea-4010-c156-31e38cdb1be1"
      },
      "execution_count": 27,
      "outputs": [
        {
          "output_type": "stream",
          "name": "stdout",
          "text": [
            "<class 'pandas.core.frame.DataFrame'>\n",
            "RangeIndex: 8732 entries, 0 to 8731\n",
            "Data columns (total 8 columns):\n",
            " #   Column           Non-Null Count  Dtype  \n",
            "---  ------           --------------  -----  \n",
            " 0   slice_file_name  8732 non-null   object \n",
            " 1   fsID             8732 non-null   int64  \n",
            " 2   start            8732 non-null   float64\n",
            " 3   end              8732 non-null   float64\n",
            " 4   salience         8732 non-null   int64  \n",
            " 5   fold             8732 non-null   int64  \n",
            " 6   classID          8732 non-null   int64  \n",
            " 7   class            8732 non-null   object \n",
            "dtypes: float64(2), int64(4), object(2)\n",
            "memory usage: 545.9+ KB\n"
          ]
        }
      ]
    },
    {
      "cell_type": "code",
      "source": [
        "def wav_to_png_file(wav_file_name) :\n",
        "\n",
        "  split_string = wav_file_name.split(\".\")\n",
        "\n",
        "  png_file_name = split_string[0] + \".png\"\n",
        "\n",
        "  return png_file_name"
      ],
      "metadata": {
        "id": "HUXokxDlz2Ee"
      },
      "execution_count": 28,
      "outputs": []
    },
    {
      "cell_type": "code",
      "source": [
        "png_file_name = wav_to_png_file('100263-2-0-117.wav')\n",
        "\n",
        "print(png_file_name)"
      ],
      "metadata": {
        "colab": {
          "base_uri": "https://localhost:8080/"
        },
        "id": "Iy2DpAIu1W7R",
        "outputId": "563c92d8-2cc0-477b-b5f5-6e6e174da007"
      },
      "execution_count": 29,
      "outputs": [
        {
          "output_type": "stream",
          "name": "stdout",
          "text": [
            "100263-2-0-117.png\n"
          ]
        }
      ]
    },
    {
      "cell_type": "code",
      "source": [
        "#Create an empty array for ClassId with the data type integer\n",
        "arrClassId = np.array([],dtype=int)\n",
        "\n",
        "for index, row in data_frame.iterrows():\n",
        "  \n",
        "  # print(index)\n",
        "\n",
        "  remainder = index%500\n",
        "\n",
        "  if (index > 0 and remainder == 0) :\n",
        "    print(f'index : {index}')\n",
        "    # break\n",
        "\n",
        "\n",
        "  slice_file_name = row['slice_file_name']\n",
        "  classID = row['classID']\n",
        "  png_file_name = wav_to_png_file(slice_file_name)\n",
        "\n",
        "  file_path = './drive/MyDrive/UrbanSound_Spectrograms/spectrograms/'+str(classID)+'/'+png_file_name\n",
        "\n",
        "  normalized_image = get_normalized_image(file_path)\n",
        "\n",
        "  # flattened_image = normalized_image.flatten()\n",
        "  \n",
        "  arrClassId= np.append(arrClassId , classID)\n",
        "\n",
        "  if(index == 0) :\n",
        "\n",
        "   # Create an empty array for Image with the data type integer\n",
        "    arrImage = normalized_image;\n",
        "  else :\n",
        "    arrImage = np.concatenate((arrImage, normalized_image), axis=0, out=None)\n"
      ],
      "metadata": {
        "id": "G6c4mjriybMs",
        "colab": {
          "base_uri": "https://localhost:8080/"
        },
        "outputId": "109bfa19-9a1b-48b1-c2e3-7854d2d53144"
      },
      "execution_count": 30,
      "outputs": [
        {
          "output_type": "stream",
          "name": "stdout",
          "text": [
            "index : 500\n",
            "index : 1000\n",
            "index : 1500\n",
            "index : 2000\n",
            "index : 2500\n",
            "index : 3000\n",
            "index : 3500\n",
            "index : 4000\n",
            "index : 4500\n",
            "index : 5000\n",
            "index : 5500\n",
            "index : 6000\n",
            "index : 6500\n",
            "index : 7000\n",
            "index : 7500\n",
            "index : 8000\n",
            "index : 8500\n"
          ]
        }
      ]
    },
    {
      "cell_type": "code",
      "source": [
        "arrClassId"
      ],
      "metadata": {
        "id": "kSQgiV7SKbQh",
        "outputId": "1734e152-86e4-4c55-8404-675e95c248ce",
        "colab": {
          "base_uri": "https://localhost:8080/"
        }
      },
      "execution_count": 31,
      "outputs": [
        {
          "output_type": "execute_result",
          "data": {
            "text/plain": [
              "array([3, 2, 2, ..., 1, 1, 1])"
            ]
          },
          "metadata": {},
          "execution_count": 31
        }
      ]
    },
    {
      "cell_type": "code",
      "source": [
        "arrClassId.shape"
      ],
      "metadata": {
        "id": "SM_cWDtgLDHV",
        "outputId": "7fb6fba8-778d-496d-a1f0-7b71a469f2d2",
        "colab": {
          "base_uri": "https://localhost:8080/"
        }
      },
      "execution_count": 32,
      "outputs": [
        {
          "output_type": "execute_result",
          "data": {
            "text/plain": [
              "(8732,)"
            ]
          },
          "metadata": {},
          "execution_count": 32
        }
      ]
    },
    {
      "cell_type": "code",
      "source": [
        "arrClassId.size"
      ],
      "metadata": {
        "colab": {
          "base_uri": "https://localhost:8080/"
        },
        "id": "JheVi2KdRpTF",
        "outputId": "7c109427-8606-4d9a-8e52-8b366edaf5a8"
      },
      "execution_count": 33,
      "outputs": [
        {
          "output_type": "execute_result",
          "data": {
            "text/plain": [
              "8732"
            ]
          },
          "metadata": {},
          "execution_count": 33
        }
      ]
    },
    {
      "cell_type": "code",
      "source": [
        "arrImage"
      ],
      "metadata": {
        "id": "HtBpK8U-Kexl",
        "outputId": "626b3062-45c9-464a-b23e-09764c3919d7",
        "colab": {
          "base_uri": "https://localhost:8080/"
        }
      },
      "execution_count": 34,
      "outputs": [
        {
          "output_type": "execute_result",
          "data": {
            "text/plain": [
              "array([[ 0,  0,  0, ...,  0,  0,  0],\n",
              "       [ 0,  0,  0, ...,  0,  0,  0],\n",
              "       [ 0,  0,  0, ...,  0,  0,  0],\n",
              "       ...,\n",
              "       [60, 83, 64, ..., 49, 75, 78],\n",
              "       [93, 84, 89, ..., 54, 66, 72],\n",
              "       [52, 62, 64, ..., 91, 97, 67]], dtype=uint8)"
            ]
          },
          "metadata": {},
          "execution_count": 34
        }
      ]
    },
    {
      "cell_type": "code",
      "source": [
        "arrImage.shape"
      ],
      "metadata": {
        "id": "gd95yVb-K1cu",
        "outputId": "241b12e9-ebf2-4a11-9cdb-47d5747c4f8b",
        "colab": {
          "base_uri": "https://localhost:8080/"
        }
      },
      "execution_count": 35,
      "outputs": [
        {
          "output_type": "execute_result",
          "data": {
            "text/plain": [
              "(218300, 25)"
            ]
          },
          "metadata": {},
          "execution_count": 35
        }
      ]
    },
    {
      "cell_type": "code",
      "source": [
        "arrImage2 = arrImage.reshape((int(218300/image_width)),(image_width*image_height))\n",
        "\n",
        "arrImage2"
      ],
      "metadata": {
        "colab": {
          "base_uri": "https://localhost:8080/"
        },
        "id": "0Iv7ZJjl1XDp",
        "outputId": "2763cadf-cf26-49f8-9476-08215146d1e2"
      },
      "execution_count": 36,
      "outputs": [
        {
          "output_type": "execute_result",
          "data": {
            "text/plain": [
              "array([[ 0,  0,  0, ...,  0,  0,  0],\n",
              "       [ 0,  0,  0, ..., 69, 77, 85],\n",
              "       [ 0,  0,  0, ..., 88, 68, 66],\n",
              "       ...,\n",
              "       [ 0,  0,  0, ..., 34, 53, 46],\n",
              "       [ 0,  0,  0, ..., 51, 41, 52],\n",
              "       [ 0,  0,  0, ..., 91, 97, 67]], dtype=uint8)"
            ]
          },
          "metadata": {},
          "execution_count": 36
        }
      ]
    },
    {
      "cell_type": "code",
      "source": [
        "arrImage2.shape"
      ],
      "metadata": {
        "colab": {
          "base_uri": "https://localhost:8080/"
        },
        "id": "4DLbMKQV2hZO",
        "outputId": "2571a9d9-38cd-426a-e53d-7f3044588ab9"
      },
      "execution_count": 37,
      "outputs": [
        {
          "output_type": "execute_result",
          "data": {
            "text/plain": [
              "(8732, 625)"
            ]
          },
          "metadata": {},
          "execution_count": 37
        }
      ]
    },
    {
      "cell_type": "markdown",
      "source": [
        "**Image(pixels) ve ClassId bazında dataFrame olustur.** (Görüntü,Etiket formatı)"
      ],
      "metadata": {
        "id": "LYKI682kSh9D"
      }
    },
    {
      "cell_type": "code",
      "source": [
        "df_image = pd.DataFrame()\n",
        "\n",
        "for k in range(arrImage2.shape[1]):\n",
        "\n",
        "  arr2 = arrImage2[:,[k]]\n",
        "\n",
        "  arr3 = arr2.flatten()\n",
        " \n",
        "  df_image[\"Pixel_\"+str(k)] = arr3\n",
        "\n",
        "\n",
        "df_image[\"ClassId\"] = arrClassId\n",
        "\n",
        "df_image"
      ],
      "metadata": {
        "id": "n3LydxAfMVF3",
        "outputId": "103e37e8-6b2e-4b56-d744-06fd7e802729",
        "colab": {
          "base_uri": "https://localhost:8080/",
          "height": 557
        }
      },
      "execution_count": 73,
      "outputs": [
        {
          "output_type": "stream",
          "name": "stderr",
          "text": [
            "/usr/local/lib/python3.7/dist-packages/ipykernel_launcher.py:9: PerformanceWarning: DataFrame is highly fragmented.  This is usually the result of calling `frame.insert` many times, which has poor performance.  Consider joining all columns at once using pd.concat(axis=1) instead.  To get a de-fragmented frame, use `newframe = frame.copy()`\n",
            "  if __name__ == '__main__':\n",
            "/usr/local/lib/python3.7/dist-packages/ipykernel_launcher.py:12: PerformanceWarning: DataFrame is highly fragmented.  This is usually the result of calling `frame.insert` many times, which has poor performance.  Consider joining all columns at once using pd.concat(axis=1) instead.  To get a de-fragmented frame, use `newframe = frame.copy()`\n",
            "  if sys.path[0] == '':\n"
          ]
        },
        {
          "output_type": "execute_result",
          "data": {
            "text/plain": [
              "      Pixel_0  Pixel_1  Pixel_2  Pixel_3  Pixel_4  Pixel_5  Pixel_6  Pixel_7  \\\n",
              "0           0        0        0        0        0        0        0        0   \n",
              "1           0        0        0        0        0        0        0        0   \n",
              "2           0        0        0        0        0        0        0        0   \n",
              "3           0        0        0        0        0        0        0        0   \n",
              "4           0        0        0        0        0        0        0        0   \n",
              "...       ...      ...      ...      ...      ...      ...      ...      ...   \n",
              "8727        0        0        0        0        0        0        0        0   \n",
              "8728        0        0        0        0        0        0        0        0   \n",
              "8729        0        0        0        0        0        0        0        0   \n",
              "8730        0        0        0        0        0        0        0        0   \n",
              "8731        0        0        0        0        0        0        0        0   \n",
              "\n",
              "      Pixel_8  Pixel_9  ...  Pixel_616  Pixel_617  Pixel_618  Pixel_619  \\\n",
              "0           0        0  ...          0          0          0          0   \n",
              "1           0        0  ...         72         69         78         83   \n",
              "2           0        0  ...         76         91         52         76   \n",
              "3           0        0  ...         61         75         54         71   \n",
              "4           0        0  ...         85         83         79         92   \n",
              "...       ...      ...  ...        ...        ...        ...        ...   \n",
              "8727        0        0  ...         62         70         49         46   \n",
              "8728        0        0  ...         30         35         35         48   \n",
              "8729        0        0  ...         30         39         28         39   \n",
              "8730        0        0  ...         44         51         57         60   \n",
              "8731        0        0  ...         60         72         96         91   \n",
              "\n",
              "      Pixel_620  Pixel_621  Pixel_622  Pixel_623  Pixel_624  ClassId  \n",
              "0             0          0          0          0          0        3  \n",
              "1            53         67         69         77         85        2  \n",
              "2            58         69         88         68         66        2  \n",
              "3            69         37         71         52         86        2  \n",
              "4            98         99         96         87         99        2  \n",
              "...         ...        ...        ...        ...        ...      ...  \n",
              "8727         42         60         33         67         58        1  \n",
              "8728         44         30         40         41         35        1  \n",
              "8729         47         29         34         53         46        1  \n",
              "8730         34         35         51         41         52        1  \n",
              "8731         75         75         91         97         67        1  \n",
              "\n",
              "[8732 rows x 626 columns]"
            ],
            "text/html": [
              "\n",
              "  <div id=\"df-45b047ef-442a-4be3-989c-64380dad0c61\">\n",
              "    <div class=\"colab-df-container\">\n",
              "      <div>\n",
              "<style scoped>\n",
              "    .dataframe tbody tr th:only-of-type {\n",
              "        vertical-align: middle;\n",
              "    }\n",
              "\n",
              "    .dataframe tbody tr th {\n",
              "        vertical-align: top;\n",
              "    }\n",
              "\n",
              "    .dataframe thead th {\n",
              "        text-align: right;\n",
              "    }\n",
              "</style>\n",
              "<table border=\"1\" class=\"dataframe\">\n",
              "  <thead>\n",
              "    <tr style=\"text-align: right;\">\n",
              "      <th></th>\n",
              "      <th>Pixel_0</th>\n",
              "      <th>Pixel_1</th>\n",
              "      <th>Pixel_2</th>\n",
              "      <th>Pixel_3</th>\n",
              "      <th>Pixel_4</th>\n",
              "      <th>Pixel_5</th>\n",
              "      <th>Pixel_6</th>\n",
              "      <th>Pixel_7</th>\n",
              "      <th>Pixel_8</th>\n",
              "      <th>Pixel_9</th>\n",
              "      <th>...</th>\n",
              "      <th>Pixel_616</th>\n",
              "      <th>Pixel_617</th>\n",
              "      <th>Pixel_618</th>\n",
              "      <th>Pixel_619</th>\n",
              "      <th>Pixel_620</th>\n",
              "      <th>Pixel_621</th>\n",
              "      <th>Pixel_622</th>\n",
              "      <th>Pixel_623</th>\n",
              "      <th>Pixel_624</th>\n",
              "      <th>ClassId</th>\n",
              "    </tr>\n",
              "  </thead>\n",
              "  <tbody>\n",
              "    <tr>\n",
              "      <th>0</th>\n",
              "      <td>0</td>\n",
              "      <td>0</td>\n",
              "      <td>0</td>\n",
              "      <td>0</td>\n",
              "      <td>0</td>\n",
              "      <td>0</td>\n",
              "      <td>0</td>\n",
              "      <td>0</td>\n",
              "      <td>0</td>\n",
              "      <td>0</td>\n",
              "      <td>...</td>\n",
              "      <td>0</td>\n",
              "      <td>0</td>\n",
              "      <td>0</td>\n",
              "      <td>0</td>\n",
              "      <td>0</td>\n",
              "      <td>0</td>\n",
              "      <td>0</td>\n",
              "      <td>0</td>\n",
              "      <td>0</td>\n",
              "      <td>3</td>\n",
              "    </tr>\n",
              "    <tr>\n",
              "      <th>1</th>\n",
              "      <td>0</td>\n",
              "      <td>0</td>\n",
              "      <td>0</td>\n",
              "      <td>0</td>\n",
              "      <td>0</td>\n",
              "      <td>0</td>\n",
              "      <td>0</td>\n",
              "      <td>0</td>\n",
              "      <td>0</td>\n",
              "      <td>0</td>\n",
              "      <td>...</td>\n",
              "      <td>72</td>\n",
              "      <td>69</td>\n",
              "      <td>78</td>\n",
              "      <td>83</td>\n",
              "      <td>53</td>\n",
              "      <td>67</td>\n",
              "      <td>69</td>\n",
              "      <td>77</td>\n",
              "      <td>85</td>\n",
              "      <td>2</td>\n",
              "    </tr>\n",
              "    <tr>\n",
              "      <th>2</th>\n",
              "      <td>0</td>\n",
              "      <td>0</td>\n",
              "      <td>0</td>\n",
              "      <td>0</td>\n",
              "      <td>0</td>\n",
              "      <td>0</td>\n",
              "      <td>0</td>\n",
              "      <td>0</td>\n",
              "      <td>0</td>\n",
              "      <td>0</td>\n",
              "      <td>...</td>\n",
              "      <td>76</td>\n",
              "      <td>91</td>\n",
              "      <td>52</td>\n",
              "      <td>76</td>\n",
              "      <td>58</td>\n",
              "      <td>69</td>\n",
              "      <td>88</td>\n",
              "      <td>68</td>\n",
              "      <td>66</td>\n",
              "      <td>2</td>\n",
              "    </tr>\n",
              "    <tr>\n",
              "      <th>3</th>\n",
              "      <td>0</td>\n",
              "      <td>0</td>\n",
              "      <td>0</td>\n",
              "      <td>0</td>\n",
              "      <td>0</td>\n",
              "      <td>0</td>\n",
              "      <td>0</td>\n",
              "      <td>0</td>\n",
              "      <td>0</td>\n",
              "      <td>0</td>\n",
              "      <td>...</td>\n",
              "      <td>61</td>\n",
              "      <td>75</td>\n",
              "      <td>54</td>\n",
              "      <td>71</td>\n",
              "      <td>69</td>\n",
              "      <td>37</td>\n",
              "      <td>71</td>\n",
              "      <td>52</td>\n",
              "      <td>86</td>\n",
              "      <td>2</td>\n",
              "    </tr>\n",
              "    <tr>\n",
              "      <th>4</th>\n",
              "      <td>0</td>\n",
              "      <td>0</td>\n",
              "      <td>0</td>\n",
              "      <td>0</td>\n",
              "      <td>0</td>\n",
              "      <td>0</td>\n",
              "      <td>0</td>\n",
              "      <td>0</td>\n",
              "      <td>0</td>\n",
              "      <td>0</td>\n",
              "      <td>...</td>\n",
              "      <td>85</td>\n",
              "      <td>83</td>\n",
              "      <td>79</td>\n",
              "      <td>92</td>\n",
              "      <td>98</td>\n",
              "      <td>99</td>\n",
              "      <td>96</td>\n",
              "      <td>87</td>\n",
              "      <td>99</td>\n",
              "      <td>2</td>\n",
              "    </tr>\n",
              "    <tr>\n",
              "      <th>...</th>\n",
              "      <td>...</td>\n",
              "      <td>...</td>\n",
              "      <td>...</td>\n",
              "      <td>...</td>\n",
              "      <td>...</td>\n",
              "      <td>...</td>\n",
              "      <td>...</td>\n",
              "      <td>...</td>\n",
              "      <td>...</td>\n",
              "      <td>...</td>\n",
              "      <td>...</td>\n",
              "      <td>...</td>\n",
              "      <td>...</td>\n",
              "      <td>...</td>\n",
              "      <td>...</td>\n",
              "      <td>...</td>\n",
              "      <td>...</td>\n",
              "      <td>...</td>\n",
              "      <td>...</td>\n",
              "      <td>...</td>\n",
              "      <td>...</td>\n",
              "    </tr>\n",
              "    <tr>\n",
              "      <th>8727</th>\n",
              "      <td>0</td>\n",
              "      <td>0</td>\n",
              "      <td>0</td>\n",
              "      <td>0</td>\n",
              "      <td>0</td>\n",
              "      <td>0</td>\n",
              "      <td>0</td>\n",
              "      <td>0</td>\n",
              "      <td>0</td>\n",
              "      <td>0</td>\n",
              "      <td>...</td>\n",
              "      <td>62</td>\n",
              "      <td>70</td>\n",
              "      <td>49</td>\n",
              "      <td>46</td>\n",
              "      <td>42</td>\n",
              "      <td>60</td>\n",
              "      <td>33</td>\n",
              "      <td>67</td>\n",
              "      <td>58</td>\n",
              "      <td>1</td>\n",
              "    </tr>\n",
              "    <tr>\n",
              "      <th>8728</th>\n",
              "      <td>0</td>\n",
              "      <td>0</td>\n",
              "      <td>0</td>\n",
              "      <td>0</td>\n",
              "      <td>0</td>\n",
              "      <td>0</td>\n",
              "      <td>0</td>\n",
              "      <td>0</td>\n",
              "      <td>0</td>\n",
              "      <td>0</td>\n",
              "      <td>...</td>\n",
              "      <td>30</td>\n",
              "      <td>35</td>\n",
              "      <td>35</td>\n",
              "      <td>48</td>\n",
              "      <td>44</td>\n",
              "      <td>30</td>\n",
              "      <td>40</td>\n",
              "      <td>41</td>\n",
              "      <td>35</td>\n",
              "      <td>1</td>\n",
              "    </tr>\n",
              "    <tr>\n",
              "      <th>8729</th>\n",
              "      <td>0</td>\n",
              "      <td>0</td>\n",
              "      <td>0</td>\n",
              "      <td>0</td>\n",
              "      <td>0</td>\n",
              "      <td>0</td>\n",
              "      <td>0</td>\n",
              "      <td>0</td>\n",
              "      <td>0</td>\n",
              "      <td>0</td>\n",
              "      <td>...</td>\n",
              "      <td>30</td>\n",
              "      <td>39</td>\n",
              "      <td>28</td>\n",
              "      <td>39</td>\n",
              "      <td>47</td>\n",
              "      <td>29</td>\n",
              "      <td>34</td>\n",
              "      <td>53</td>\n",
              "      <td>46</td>\n",
              "      <td>1</td>\n",
              "    </tr>\n",
              "    <tr>\n",
              "      <th>8730</th>\n",
              "      <td>0</td>\n",
              "      <td>0</td>\n",
              "      <td>0</td>\n",
              "      <td>0</td>\n",
              "      <td>0</td>\n",
              "      <td>0</td>\n",
              "      <td>0</td>\n",
              "      <td>0</td>\n",
              "      <td>0</td>\n",
              "      <td>0</td>\n",
              "      <td>...</td>\n",
              "      <td>44</td>\n",
              "      <td>51</td>\n",
              "      <td>57</td>\n",
              "      <td>60</td>\n",
              "      <td>34</td>\n",
              "      <td>35</td>\n",
              "      <td>51</td>\n",
              "      <td>41</td>\n",
              "      <td>52</td>\n",
              "      <td>1</td>\n",
              "    </tr>\n",
              "    <tr>\n",
              "      <th>8731</th>\n",
              "      <td>0</td>\n",
              "      <td>0</td>\n",
              "      <td>0</td>\n",
              "      <td>0</td>\n",
              "      <td>0</td>\n",
              "      <td>0</td>\n",
              "      <td>0</td>\n",
              "      <td>0</td>\n",
              "      <td>0</td>\n",
              "      <td>0</td>\n",
              "      <td>...</td>\n",
              "      <td>60</td>\n",
              "      <td>72</td>\n",
              "      <td>96</td>\n",
              "      <td>91</td>\n",
              "      <td>75</td>\n",
              "      <td>75</td>\n",
              "      <td>91</td>\n",
              "      <td>97</td>\n",
              "      <td>67</td>\n",
              "      <td>1</td>\n",
              "    </tr>\n",
              "  </tbody>\n",
              "</table>\n",
              "<p>8732 rows × 626 columns</p>\n",
              "</div>\n",
              "      <button class=\"colab-df-convert\" onclick=\"convertToInteractive('df-45b047ef-442a-4be3-989c-64380dad0c61')\"\n",
              "              title=\"Convert this dataframe to an interactive table.\"\n",
              "              style=\"display:none;\">\n",
              "        \n",
              "  <svg xmlns=\"http://www.w3.org/2000/svg\" height=\"24px\"viewBox=\"0 0 24 24\"\n",
              "       width=\"24px\">\n",
              "    <path d=\"M0 0h24v24H0V0z\" fill=\"none\"/>\n",
              "    <path d=\"M18.56 5.44l.94 2.06.94-2.06 2.06-.94-2.06-.94-.94-2.06-.94 2.06-2.06.94zm-11 1L8.5 8.5l.94-2.06 2.06-.94-2.06-.94L8.5 2.5l-.94 2.06-2.06.94zm10 10l.94 2.06.94-2.06 2.06-.94-2.06-.94-.94-2.06-.94 2.06-2.06.94z\"/><path d=\"M17.41 7.96l-1.37-1.37c-.4-.4-.92-.59-1.43-.59-.52 0-1.04.2-1.43.59L10.3 9.45l-7.72 7.72c-.78.78-.78 2.05 0 2.83L4 21.41c.39.39.9.59 1.41.59.51 0 1.02-.2 1.41-.59l7.78-7.78 2.81-2.81c.8-.78.8-2.07 0-2.86zM5.41 20L4 18.59l7.72-7.72 1.47 1.35L5.41 20z\"/>\n",
              "  </svg>\n",
              "      </button>\n",
              "      \n",
              "  <style>\n",
              "    .colab-df-container {\n",
              "      display:flex;\n",
              "      flex-wrap:wrap;\n",
              "      gap: 12px;\n",
              "    }\n",
              "\n",
              "    .colab-df-convert {\n",
              "      background-color: #E8F0FE;\n",
              "      border: none;\n",
              "      border-radius: 50%;\n",
              "      cursor: pointer;\n",
              "      display: none;\n",
              "      fill: #1967D2;\n",
              "      height: 32px;\n",
              "      padding: 0 0 0 0;\n",
              "      width: 32px;\n",
              "    }\n",
              "\n",
              "    .colab-df-convert:hover {\n",
              "      background-color: #E2EBFA;\n",
              "      box-shadow: 0px 1px 2px rgba(60, 64, 67, 0.3), 0px 1px 3px 1px rgba(60, 64, 67, 0.15);\n",
              "      fill: #174EA6;\n",
              "    }\n",
              "\n",
              "    [theme=dark] .colab-df-convert {\n",
              "      background-color: #3B4455;\n",
              "      fill: #D2E3FC;\n",
              "    }\n",
              "\n",
              "    [theme=dark] .colab-df-convert:hover {\n",
              "      background-color: #434B5C;\n",
              "      box-shadow: 0px 1px 3px 1px rgba(0, 0, 0, 0.15);\n",
              "      filter: drop-shadow(0px 1px 2px rgba(0, 0, 0, 0.3));\n",
              "      fill: #FFFFFF;\n",
              "    }\n",
              "  </style>\n",
              "\n",
              "      <script>\n",
              "        const buttonEl =\n",
              "          document.querySelector('#df-45b047ef-442a-4be3-989c-64380dad0c61 button.colab-df-convert');\n",
              "        buttonEl.style.display =\n",
              "          google.colab.kernel.accessAllowed ? 'block' : 'none';\n",
              "\n",
              "        async function convertToInteractive(key) {\n",
              "          const element = document.querySelector('#df-45b047ef-442a-4be3-989c-64380dad0c61');\n",
              "          const dataTable =\n",
              "            await google.colab.kernel.invokeFunction('convertToInteractive',\n",
              "                                                     [key], {});\n",
              "          if (!dataTable) return;\n",
              "\n",
              "          const docLinkHtml = 'Like what you see? Visit the ' +\n",
              "            '<a target=\"_blank\" href=https://colab.research.google.com/notebooks/data_table.ipynb>data table notebook</a>'\n",
              "            + ' to learn more about interactive tables.';\n",
              "          element.innerHTML = '';\n",
              "          dataTable['output_type'] = 'display_data';\n",
              "          await google.colab.output.renderOutput(dataTable, element);\n",
              "          const docLink = document.createElement('div');\n",
              "          docLink.innerHTML = docLinkHtml;\n",
              "          element.appendChild(docLink);\n",
              "        }\n",
              "      </script>\n",
              "    </div>\n",
              "  </div>\n",
              "  "
            ]
          },
          "metadata": {},
          "execution_count": 73
        }
      ]
    },
    {
      "cell_type": "markdown",
      "source": [
        "**ClassId ve Image(flattened) bazında dataFrame olustur.**\n",
        "(Görüntü,Etiket formatı)\n"
      ],
      "metadata": {
        "id": "J09Kqu1QTbEc"
      }
    },
    {
      "cell_type": "markdown",
      "source": [
        "**DataFrame i dosyaya yaz.**\n",
        "\n",
        "Baştan spectrogramları okuyarak Data Frame i yeniden oluşturmak çok uzun sürüyor.\n",
        "\n",
        "Google Drive da kalıcı dosyaya yazılacak.Sonraki işlemler bu dosyadan okunarak yapılacak."
      ],
      "metadata": {
        "id": "x3pG5kNqDgoP"
      }
    },
    {
      "cell_type": "code",
      "source": [
        "df_image.to_csv('./drive/MyDrive/UrbanSoundMyFolder/Image_All.csv')"
      ],
      "metadata": {
        "id": "fUUzr5lxDxkm"
      },
      "execution_count": 74,
      "outputs": []
    },
    {
      "cell_type": "markdown",
      "source": [
        "**DataFrame i Image_All.csv den okuyarak tekrar olustur.**"
      ],
      "metadata": {
        "id": "fPivLQ5LFDjk"
      }
    },
    {
      "cell_type": "code",
      "source": [
        "df_Image_All = pd.read_csv('./drive/MyDrive/UrbanSoundMyFolder/Image_All.csv')\n",
        "\n",
        "df_Image_All"
      ],
      "metadata": {
        "colab": {
          "base_uri": "https://localhost:8080/",
          "height": 505
        },
        "id": "-Wka6GHnFT7P",
        "outputId": "f9832d6a-48fc-4da8-a29b-41c32bb19b83"
      },
      "execution_count": 75,
      "outputs": [
        {
          "output_type": "execute_result",
          "data": {
            "text/plain": [
              "      Unnamed: 0  Pixel_0  Pixel_1  Pixel_2  Pixel_3  Pixel_4  Pixel_5  \\\n",
              "0              0        0        0        0        0        0        0   \n",
              "1              1        0        0        0        0        0        0   \n",
              "2              2        0        0        0        0        0        0   \n",
              "3              3        0        0        0        0        0        0   \n",
              "4              4        0        0        0        0        0        0   \n",
              "...          ...      ...      ...      ...      ...      ...      ...   \n",
              "8727        8727        0        0        0        0        0        0   \n",
              "8728        8728        0        0        0        0        0        0   \n",
              "8729        8729        0        0        0        0        0        0   \n",
              "8730        8730        0        0        0        0        0        0   \n",
              "8731        8731        0        0        0        0        0        0   \n",
              "\n",
              "      Pixel_6  Pixel_7  Pixel_8  ...  Pixel_616  Pixel_617  Pixel_618  \\\n",
              "0           0        0        0  ...          0          0          0   \n",
              "1           0        0        0  ...         72         69         78   \n",
              "2           0        0        0  ...         76         91         52   \n",
              "3           0        0        0  ...         61         75         54   \n",
              "4           0        0        0  ...         85         83         79   \n",
              "...       ...      ...      ...  ...        ...        ...        ...   \n",
              "8727        0        0        0  ...         62         70         49   \n",
              "8728        0        0        0  ...         30         35         35   \n",
              "8729        0        0        0  ...         30         39         28   \n",
              "8730        0        0        0  ...         44         51         57   \n",
              "8731        0        0        0  ...         60         72         96   \n",
              "\n",
              "      Pixel_619  Pixel_620  Pixel_621  Pixel_622  Pixel_623  Pixel_624  \\\n",
              "0             0          0          0          0          0          0   \n",
              "1            83         53         67         69         77         85   \n",
              "2            76         58         69         88         68         66   \n",
              "3            71         69         37         71         52         86   \n",
              "4            92         98         99         96         87         99   \n",
              "...         ...        ...        ...        ...        ...        ...   \n",
              "8727         46         42         60         33         67         58   \n",
              "8728         48         44         30         40         41         35   \n",
              "8729         39         47         29         34         53         46   \n",
              "8730         60         34         35         51         41         52   \n",
              "8731         91         75         75         91         97         67   \n",
              "\n",
              "      ClassId  \n",
              "0           3  \n",
              "1           2  \n",
              "2           2  \n",
              "3           2  \n",
              "4           2  \n",
              "...       ...  \n",
              "8727        1  \n",
              "8728        1  \n",
              "8729        1  \n",
              "8730        1  \n",
              "8731        1  \n",
              "\n",
              "[8732 rows x 627 columns]"
            ],
            "text/html": [
              "\n",
              "  <div id=\"df-9bce5ace-a423-4582-9361-8915a93c9bb5\">\n",
              "    <div class=\"colab-df-container\">\n",
              "      <div>\n",
              "<style scoped>\n",
              "    .dataframe tbody tr th:only-of-type {\n",
              "        vertical-align: middle;\n",
              "    }\n",
              "\n",
              "    .dataframe tbody tr th {\n",
              "        vertical-align: top;\n",
              "    }\n",
              "\n",
              "    .dataframe thead th {\n",
              "        text-align: right;\n",
              "    }\n",
              "</style>\n",
              "<table border=\"1\" class=\"dataframe\">\n",
              "  <thead>\n",
              "    <tr style=\"text-align: right;\">\n",
              "      <th></th>\n",
              "      <th>Unnamed: 0</th>\n",
              "      <th>Pixel_0</th>\n",
              "      <th>Pixel_1</th>\n",
              "      <th>Pixel_2</th>\n",
              "      <th>Pixel_3</th>\n",
              "      <th>Pixel_4</th>\n",
              "      <th>Pixel_5</th>\n",
              "      <th>Pixel_6</th>\n",
              "      <th>Pixel_7</th>\n",
              "      <th>Pixel_8</th>\n",
              "      <th>...</th>\n",
              "      <th>Pixel_616</th>\n",
              "      <th>Pixel_617</th>\n",
              "      <th>Pixel_618</th>\n",
              "      <th>Pixel_619</th>\n",
              "      <th>Pixel_620</th>\n",
              "      <th>Pixel_621</th>\n",
              "      <th>Pixel_622</th>\n",
              "      <th>Pixel_623</th>\n",
              "      <th>Pixel_624</th>\n",
              "      <th>ClassId</th>\n",
              "    </tr>\n",
              "  </thead>\n",
              "  <tbody>\n",
              "    <tr>\n",
              "      <th>0</th>\n",
              "      <td>0</td>\n",
              "      <td>0</td>\n",
              "      <td>0</td>\n",
              "      <td>0</td>\n",
              "      <td>0</td>\n",
              "      <td>0</td>\n",
              "      <td>0</td>\n",
              "      <td>0</td>\n",
              "      <td>0</td>\n",
              "      <td>0</td>\n",
              "      <td>...</td>\n",
              "      <td>0</td>\n",
              "      <td>0</td>\n",
              "      <td>0</td>\n",
              "      <td>0</td>\n",
              "      <td>0</td>\n",
              "      <td>0</td>\n",
              "      <td>0</td>\n",
              "      <td>0</td>\n",
              "      <td>0</td>\n",
              "      <td>3</td>\n",
              "    </tr>\n",
              "    <tr>\n",
              "      <th>1</th>\n",
              "      <td>1</td>\n",
              "      <td>0</td>\n",
              "      <td>0</td>\n",
              "      <td>0</td>\n",
              "      <td>0</td>\n",
              "      <td>0</td>\n",
              "      <td>0</td>\n",
              "      <td>0</td>\n",
              "      <td>0</td>\n",
              "      <td>0</td>\n",
              "      <td>...</td>\n",
              "      <td>72</td>\n",
              "      <td>69</td>\n",
              "      <td>78</td>\n",
              "      <td>83</td>\n",
              "      <td>53</td>\n",
              "      <td>67</td>\n",
              "      <td>69</td>\n",
              "      <td>77</td>\n",
              "      <td>85</td>\n",
              "      <td>2</td>\n",
              "    </tr>\n",
              "    <tr>\n",
              "      <th>2</th>\n",
              "      <td>2</td>\n",
              "      <td>0</td>\n",
              "      <td>0</td>\n",
              "      <td>0</td>\n",
              "      <td>0</td>\n",
              "      <td>0</td>\n",
              "      <td>0</td>\n",
              "      <td>0</td>\n",
              "      <td>0</td>\n",
              "      <td>0</td>\n",
              "      <td>...</td>\n",
              "      <td>76</td>\n",
              "      <td>91</td>\n",
              "      <td>52</td>\n",
              "      <td>76</td>\n",
              "      <td>58</td>\n",
              "      <td>69</td>\n",
              "      <td>88</td>\n",
              "      <td>68</td>\n",
              "      <td>66</td>\n",
              "      <td>2</td>\n",
              "    </tr>\n",
              "    <tr>\n",
              "      <th>3</th>\n",
              "      <td>3</td>\n",
              "      <td>0</td>\n",
              "      <td>0</td>\n",
              "      <td>0</td>\n",
              "      <td>0</td>\n",
              "      <td>0</td>\n",
              "      <td>0</td>\n",
              "      <td>0</td>\n",
              "      <td>0</td>\n",
              "      <td>0</td>\n",
              "      <td>...</td>\n",
              "      <td>61</td>\n",
              "      <td>75</td>\n",
              "      <td>54</td>\n",
              "      <td>71</td>\n",
              "      <td>69</td>\n",
              "      <td>37</td>\n",
              "      <td>71</td>\n",
              "      <td>52</td>\n",
              "      <td>86</td>\n",
              "      <td>2</td>\n",
              "    </tr>\n",
              "    <tr>\n",
              "      <th>4</th>\n",
              "      <td>4</td>\n",
              "      <td>0</td>\n",
              "      <td>0</td>\n",
              "      <td>0</td>\n",
              "      <td>0</td>\n",
              "      <td>0</td>\n",
              "      <td>0</td>\n",
              "      <td>0</td>\n",
              "      <td>0</td>\n",
              "      <td>0</td>\n",
              "      <td>...</td>\n",
              "      <td>85</td>\n",
              "      <td>83</td>\n",
              "      <td>79</td>\n",
              "      <td>92</td>\n",
              "      <td>98</td>\n",
              "      <td>99</td>\n",
              "      <td>96</td>\n",
              "      <td>87</td>\n",
              "      <td>99</td>\n",
              "      <td>2</td>\n",
              "    </tr>\n",
              "    <tr>\n",
              "      <th>...</th>\n",
              "      <td>...</td>\n",
              "      <td>...</td>\n",
              "      <td>...</td>\n",
              "      <td>...</td>\n",
              "      <td>...</td>\n",
              "      <td>...</td>\n",
              "      <td>...</td>\n",
              "      <td>...</td>\n",
              "      <td>...</td>\n",
              "      <td>...</td>\n",
              "      <td>...</td>\n",
              "      <td>...</td>\n",
              "      <td>...</td>\n",
              "      <td>...</td>\n",
              "      <td>...</td>\n",
              "      <td>...</td>\n",
              "      <td>...</td>\n",
              "      <td>...</td>\n",
              "      <td>...</td>\n",
              "      <td>...</td>\n",
              "      <td>...</td>\n",
              "    </tr>\n",
              "    <tr>\n",
              "      <th>8727</th>\n",
              "      <td>8727</td>\n",
              "      <td>0</td>\n",
              "      <td>0</td>\n",
              "      <td>0</td>\n",
              "      <td>0</td>\n",
              "      <td>0</td>\n",
              "      <td>0</td>\n",
              "      <td>0</td>\n",
              "      <td>0</td>\n",
              "      <td>0</td>\n",
              "      <td>...</td>\n",
              "      <td>62</td>\n",
              "      <td>70</td>\n",
              "      <td>49</td>\n",
              "      <td>46</td>\n",
              "      <td>42</td>\n",
              "      <td>60</td>\n",
              "      <td>33</td>\n",
              "      <td>67</td>\n",
              "      <td>58</td>\n",
              "      <td>1</td>\n",
              "    </tr>\n",
              "    <tr>\n",
              "      <th>8728</th>\n",
              "      <td>8728</td>\n",
              "      <td>0</td>\n",
              "      <td>0</td>\n",
              "      <td>0</td>\n",
              "      <td>0</td>\n",
              "      <td>0</td>\n",
              "      <td>0</td>\n",
              "      <td>0</td>\n",
              "      <td>0</td>\n",
              "      <td>0</td>\n",
              "      <td>...</td>\n",
              "      <td>30</td>\n",
              "      <td>35</td>\n",
              "      <td>35</td>\n",
              "      <td>48</td>\n",
              "      <td>44</td>\n",
              "      <td>30</td>\n",
              "      <td>40</td>\n",
              "      <td>41</td>\n",
              "      <td>35</td>\n",
              "      <td>1</td>\n",
              "    </tr>\n",
              "    <tr>\n",
              "      <th>8729</th>\n",
              "      <td>8729</td>\n",
              "      <td>0</td>\n",
              "      <td>0</td>\n",
              "      <td>0</td>\n",
              "      <td>0</td>\n",
              "      <td>0</td>\n",
              "      <td>0</td>\n",
              "      <td>0</td>\n",
              "      <td>0</td>\n",
              "      <td>0</td>\n",
              "      <td>...</td>\n",
              "      <td>30</td>\n",
              "      <td>39</td>\n",
              "      <td>28</td>\n",
              "      <td>39</td>\n",
              "      <td>47</td>\n",
              "      <td>29</td>\n",
              "      <td>34</td>\n",
              "      <td>53</td>\n",
              "      <td>46</td>\n",
              "      <td>1</td>\n",
              "    </tr>\n",
              "    <tr>\n",
              "      <th>8730</th>\n",
              "      <td>8730</td>\n",
              "      <td>0</td>\n",
              "      <td>0</td>\n",
              "      <td>0</td>\n",
              "      <td>0</td>\n",
              "      <td>0</td>\n",
              "      <td>0</td>\n",
              "      <td>0</td>\n",
              "      <td>0</td>\n",
              "      <td>0</td>\n",
              "      <td>...</td>\n",
              "      <td>44</td>\n",
              "      <td>51</td>\n",
              "      <td>57</td>\n",
              "      <td>60</td>\n",
              "      <td>34</td>\n",
              "      <td>35</td>\n",
              "      <td>51</td>\n",
              "      <td>41</td>\n",
              "      <td>52</td>\n",
              "      <td>1</td>\n",
              "    </tr>\n",
              "    <tr>\n",
              "      <th>8731</th>\n",
              "      <td>8731</td>\n",
              "      <td>0</td>\n",
              "      <td>0</td>\n",
              "      <td>0</td>\n",
              "      <td>0</td>\n",
              "      <td>0</td>\n",
              "      <td>0</td>\n",
              "      <td>0</td>\n",
              "      <td>0</td>\n",
              "      <td>0</td>\n",
              "      <td>...</td>\n",
              "      <td>60</td>\n",
              "      <td>72</td>\n",
              "      <td>96</td>\n",
              "      <td>91</td>\n",
              "      <td>75</td>\n",
              "      <td>75</td>\n",
              "      <td>91</td>\n",
              "      <td>97</td>\n",
              "      <td>67</td>\n",
              "      <td>1</td>\n",
              "    </tr>\n",
              "  </tbody>\n",
              "</table>\n",
              "<p>8732 rows × 627 columns</p>\n",
              "</div>\n",
              "      <button class=\"colab-df-convert\" onclick=\"convertToInteractive('df-9bce5ace-a423-4582-9361-8915a93c9bb5')\"\n",
              "              title=\"Convert this dataframe to an interactive table.\"\n",
              "              style=\"display:none;\">\n",
              "        \n",
              "  <svg xmlns=\"http://www.w3.org/2000/svg\" height=\"24px\"viewBox=\"0 0 24 24\"\n",
              "       width=\"24px\">\n",
              "    <path d=\"M0 0h24v24H0V0z\" fill=\"none\"/>\n",
              "    <path d=\"M18.56 5.44l.94 2.06.94-2.06 2.06-.94-2.06-.94-.94-2.06-.94 2.06-2.06.94zm-11 1L8.5 8.5l.94-2.06 2.06-.94-2.06-.94L8.5 2.5l-.94 2.06-2.06.94zm10 10l.94 2.06.94-2.06 2.06-.94-2.06-.94-.94-2.06-.94 2.06-2.06.94z\"/><path d=\"M17.41 7.96l-1.37-1.37c-.4-.4-.92-.59-1.43-.59-.52 0-1.04.2-1.43.59L10.3 9.45l-7.72 7.72c-.78.78-.78 2.05 0 2.83L4 21.41c.39.39.9.59 1.41.59.51 0 1.02-.2 1.41-.59l7.78-7.78 2.81-2.81c.8-.78.8-2.07 0-2.86zM5.41 20L4 18.59l7.72-7.72 1.47 1.35L5.41 20z\"/>\n",
              "  </svg>\n",
              "      </button>\n",
              "      \n",
              "  <style>\n",
              "    .colab-df-container {\n",
              "      display:flex;\n",
              "      flex-wrap:wrap;\n",
              "      gap: 12px;\n",
              "    }\n",
              "\n",
              "    .colab-df-convert {\n",
              "      background-color: #E8F0FE;\n",
              "      border: none;\n",
              "      border-radius: 50%;\n",
              "      cursor: pointer;\n",
              "      display: none;\n",
              "      fill: #1967D2;\n",
              "      height: 32px;\n",
              "      padding: 0 0 0 0;\n",
              "      width: 32px;\n",
              "    }\n",
              "\n",
              "    .colab-df-convert:hover {\n",
              "      background-color: #E2EBFA;\n",
              "      box-shadow: 0px 1px 2px rgba(60, 64, 67, 0.3), 0px 1px 3px 1px rgba(60, 64, 67, 0.15);\n",
              "      fill: #174EA6;\n",
              "    }\n",
              "\n",
              "    [theme=dark] .colab-df-convert {\n",
              "      background-color: #3B4455;\n",
              "      fill: #D2E3FC;\n",
              "    }\n",
              "\n",
              "    [theme=dark] .colab-df-convert:hover {\n",
              "      background-color: #434B5C;\n",
              "      box-shadow: 0px 1px 3px 1px rgba(0, 0, 0, 0.15);\n",
              "      filter: drop-shadow(0px 1px 2px rgba(0, 0, 0, 0.3));\n",
              "      fill: #FFFFFF;\n",
              "    }\n",
              "  </style>\n",
              "\n",
              "      <script>\n",
              "        const buttonEl =\n",
              "          document.querySelector('#df-9bce5ace-a423-4582-9361-8915a93c9bb5 button.colab-df-convert');\n",
              "        buttonEl.style.display =\n",
              "          google.colab.kernel.accessAllowed ? 'block' : 'none';\n",
              "\n",
              "        async function convertToInteractive(key) {\n",
              "          const element = document.querySelector('#df-9bce5ace-a423-4582-9361-8915a93c9bb5');\n",
              "          const dataTable =\n",
              "            await google.colab.kernel.invokeFunction('convertToInteractive',\n",
              "                                                     [key], {});\n",
              "          if (!dataTable) return;\n",
              "\n",
              "          const docLinkHtml = 'Like what you see? Visit the ' +\n",
              "            '<a target=\"_blank\" href=https://colab.research.google.com/notebooks/data_table.ipynb>data table notebook</a>'\n",
              "            + ' to learn more about interactive tables.';\n",
              "          element.innerHTML = '';\n",
              "          dataTable['output_type'] = 'display_data';\n",
              "          await google.colab.output.renderOutput(dataTable, element);\n",
              "          const docLink = document.createElement('div');\n",
              "          docLink.innerHTML = docLinkHtml;\n",
              "          element.appendChild(docLink);\n",
              "        }\n",
              "      </script>\n",
              "    </div>\n",
              "  </div>\n",
              "  "
            ]
          },
          "metadata": {},
          "execution_count": 75
        }
      ]
    },
    {
      "cell_type": "code",
      "source": [
        "df_Image_All.info()"
      ],
      "metadata": {
        "colab": {
          "base_uri": "https://localhost:8080/"
        },
        "id": "000nZeU9Fv0p",
        "outputId": "1547937e-d05c-42c8-c8c0-7d7c409b6d45"
      },
      "execution_count": 76,
      "outputs": [
        {
          "output_type": "stream",
          "name": "stdout",
          "text": [
            "<class 'pandas.core.frame.DataFrame'>\n",
            "RangeIndex: 8732 entries, 0 to 8731\n",
            "Columns: 627 entries, Unnamed: 0 to ClassId\n",
            "dtypes: int64(627)\n",
            "memory usage: 41.8 MB\n"
          ]
        }
      ]
    },
    {
      "cell_type": "markdown",
      "source": [
        "**Preprocessing**\n",
        "\n",
        "Now that we have a better understanding of our data, let’s split the dataset into features and labels.\n",
        "\n",
        "📌 Create X and y datasets using .drop() and .loc() methods"
      ],
      "metadata": {
        "id": "BffnysDLJ8db"
      }
    },
    {
      "cell_type": "code",
      "source": [
        "# Create the features dataset\n",
        "X = df_Image_All.drop('ClassId',axis=1)\n",
        "\n",
        "# Create the labels dataset\n",
        "y = df_Image_All.loc[:,'ClassId']"
      ],
      "metadata": {
        "id": "jxaaDXlLKAci"
      },
      "execution_count": 77,
      "outputs": []
    },
    {
      "cell_type": "markdown",
      "source": [
        "**Feature scaling**\n",
        "\n",
        "Having features in different units or ranges can be problematic in deep learning. We need to scale all of the values between the 0 and 1 range.\n",
        "\n",
        "📌 Use the minmax_scale() function of the sklearn library."
      ],
      "metadata": {
        "id": "Pa_Ke0MhKl8y"
      }
    },
    {
      "cell_type": "code",
      "source": [
        "# Normalize the features dataset and assign it to a variable\n",
        "X_scaled = minmax_scale(X)\n",
        "\n",
        "# Create a DataFrame using the new variable\n",
        "X = pd.DataFrame(X_scaled)"
      ],
      "metadata": {
        "id": "lDUXMD9cK_rK"
      },
      "execution_count": 78,
      "outputs": []
    },
    {
      "cell_type": "markdown",
      "source": [
        "Then, we print the X data again so we can see the difference.\n",
        "\n",
        "📌 Use the .head() method."
      ],
      "metadata": {
        "id": "uc4-g3KET3pg"
      }
    },
    {
      "cell_type": "code",
      "source": [
        "# Print the newly created DataFrame\n",
        "X.head()"
      ],
      "metadata": {
        "id": "5azplZJ0T6NE",
        "outputId": "c4feab79-0c25-4168-9c50-ec9c0df38b80",
        "colab": {
          "base_uri": "https://localhost:8080/",
          "height": 236
        }
      },
      "execution_count": 79,
      "outputs": [
        {
          "output_type": "execute_result",
          "data": {
            "text/plain": [
              "        0    1    2    3    4    5    6    7    8    9    ...   616   617  \\\n",
              "0  0.000000  0.0  0.0  0.0  0.0  0.0  0.0  0.0  0.0  0.0  ...  0.00  0.00   \n",
              "1  0.000115  0.0  0.0  0.0  0.0  0.0  0.0  0.0  0.0  0.0  ...  0.94  0.72   \n",
              "2  0.000229  0.0  0.0  0.0  0.0  0.0  0.0  0.0  0.0  0.0  ...  0.61  0.76   \n",
              "3  0.000344  0.0  0.0  0.0  0.0  0.0  0.0  0.0  0.0  0.0  ...  0.48  0.61   \n",
              "4  0.000458  0.0  0.0  0.0  0.0  0.0  0.0  0.0  0.0  0.0  ...  0.82  0.85   \n",
              "\n",
              "    618   619   620   621   622   623   624   625  \n",
              "0  0.00  0.00  0.00  0.00  0.00  0.00  0.00  0.00  \n",
              "1  0.69  0.78  0.83  0.53  0.67  0.69  0.77  0.85  \n",
              "2  0.91  0.52  0.76  0.58  0.69  0.88  0.68  0.66  \n",
              "3  0.75  0.54  0.71  0.69  0.37  0.71  0.52  0.86  \n",
              "4  0.83  0.79  0.92  0.98  0.99  0.96  0.87  0.99  \n",
              "\n",
              "[5 rows x 626 columns]"
            ],
            "text/html": [
              "\n",
              "  <div id=\"df-61f39701-96dd-4796-9c84-82722970b204\">\n",
              "    <div class=\"colab-df-container\">\n",
              "      <div>\n",
              "<style scoped>\n",
              "    .dataframe tbody tr th:only-of-type {\n",
              "        vertical-align: middle;\n",
              "    }\n",
              "\n",
              "    .dataframe tbody tr th {\n",
              "        vertical-align: top;\n",
              "    }\n",
              "\n",
              "    .dataframe thead th {\n",
              "        text-align: right;\n",
              "    }\n",
              "</style>\n",
              "<table border=\"1\" class=\"dataframe\">\n",
              "  <thead>\n",
              "    <tr style=\"text-align: right;\">\n",
              "      <th></th>\n",
              "      <th>0</th>\n",
              "      <th>1</th>\n",
              "      <th>2</th>\n",
              "      <th>3</th>\n",
              "      <th>4</th>\n",
              "      <th>5</th>\n",
              "      <th>6</th>\n",
              "      <th>7</th>\n",
              "      <th>8</th>\n",
              "      <th>9</th>\n",
              "      <th>...</th>\n",
              "      <th>616</th>\n",
              "      <th>617</th>\n",
              "      <th>618</th>\n",
              "      <th>619</th>\n",
              "      <th>620</th>\n",
              "      <th>621</th>\n",
              "      <th>622</th>\n",
              "      <th>623</th>\n",
              "      <th>624</th>\n",
              "      <th>625</th>\n",
              "    </tr>\n",
              "  </thead>\n",
              "  <tbody>\n",
              "    <tr>\n",
              "      <th>0</th>\n",
              "      <td>0.000000</td>\n",
              "      <td>0.0</td>\n",
              "      <td>0.0</td>\n",
              "      <td>0.0</td>\n",
              "      <td>0.0</td>\n",
              "      <td>0.0</td>\n",
              "      <td>0.0</td>\n",
              "      <td>0.0</td>\n",
              "      <td>0.0</td>\n",
              "      <td>0.0</td>\n",
              "      <td>...</td>\n",
              "      <td>0.00</td>\n",
              "      <td>0.00</td>\n",
              "      <td>0.00</td>\n",
              "      <td>0.00</td>\n",
              "      <td>0.00</td>\n",
              "      <td>0.00</td>\n",
              "      <td>0.00</td>\n",
              "      <td>0.00</td>\n",
              "      <td>0.00</td>\n",
              "      <td>0.00</td>\n",
              "    </tr>\n",
              "    <tr>\n",
              "      <th>1</th>\n",
              "      <td>0.000115</td>\n",
              "      <td>0.0</td>\n",
              "      <td>0.0</td>\n",
              "      <td>0.0</td>\n",
              "      <td>0.0</td>\n",
              "      <td>0.0</td>\n",
              "      <td>0.0</td>\n",
              "      <td>0.0</td>\n",
              "      <td>0.0</td>\n",
              "      <td>0.0</td>\n",
              "      <td>...</td>\n",
              "      <td>0.94</td>\n",
              "      <td>0.72</td>\n",
              "      <td>0.69</td>\n",
              "      <td>0.78</td>\n",
              "      <td>0.83</td>\n",
              "      <td>0.53</td>\n",
              "      <td>0.67</td>\n",
              "      <td>0.69</td>\n",
              "      <td>0.77</td>\n",
              "      <td>0.85</td>\n",
              "    </tr>\n",
              "    <tr>\n",
              "      <th>2</th>\n",
              "      <td>0.000229</td>\n",
              "      <td>0.0</td>\n",
              "      <td>0.0</td>\n",
              "      <td>0.0</td>\n",
              "      <td>0.0</td>\n",
              "      <td>0.0</td>\n",
              "      <td>0.0</td>\n",
              "      <td>0.0</td>\n",
              "      <td>0.0</td>\n",
              "      <td>0.0</td>\n",
              "      <td>...</td>\n",
              "      <td>0.61</td>\n",
              "      <td>0.76</td>\n",
              "      <td>0.91</td>\n",
              "      <td>0.52</td>\n",
              "      <td>0.76</td>\n",
              "      <td>0.58</td>\n",
              "      <td>0.69</td>\n",
              "      <td>0.88</td>\n",
              "      <td>0.68</td>\n",
              "      <td>0.66</td>\n",
              "    </tr>\n",
              "    <tr>\n",
              "      <th>3</th>\n",
              "      <td>0.000344</td>\n",
              "      <td>0.0</td>\n",
              "      <td>0.0</td>\n",
              "      <td>0.0</td>\n",
              "      <td>0.0</td>\n",
              "      <td>0.0</td>\n",
              "      <td>0.0</td>\n",
              "      <td>0.0</td>\n",
              "      <td>0.0</td>\n",
              "      <td>0.0</td>\n",
              "      <td>...</td>\n",
              "      <td>0.48</td>\n",
              "      <td>0.61</td>\n",
              "      <td>0.75</td>\n",
              "      <td>0.54</td>\n",
              "      <td>0.71</td>\n",
              "      <td>0.69</td>\n",
              "      <td>0.37</td>\n",
              "      <td>0.71</td>\n",
              "      <td>0.52</td>\n",
              "      <td>0.86</td>\n",
              "    </tr>\n",
              "    <tr>\n",
              "      <th>4</th>\n",
              "      <td>0.000458</td>\n",
              "      <td>0.0</td>\n",
              "      <td>0.0</td>\n",
              "      <td>0.0</td>\n",
              "      <td>0.0</td>\n",
              "      <td>0.0</td>\n",
              "      <td>0.0</td>\n",
              "      <td>0.0</td>\n",
              "      <td>0.0</td>\n",
              "      <td>0.0</td>\n",
              "      <td>...</td>\n",
              "      <td>0.82</td>\n",
              "      <td>0.85</td>\n",
              "      <td>0.83</td>\n",
              "      <td>0.79</td>\n",
              "      <td>0.92</td>\n",
              "      <td>0.98</td>\n",
              "      <td>0.99</td>\n",
              "      <td>0.96</td>\n",
              "      <td>0.87</td>\n",
              "      <td>0.99</td>\n",
              "    </tr>\n",
              "  </tbody>\n",
              "</table>\n",
              "<p>5 rows × 626 columns</p>\n",
              "</div>\n",
              "      <button class=\"colab-df-convert\" onclick=\"convertToInteractive('df-61f39701-96dd-4796-9c84-82722970b204')\"\n",
              "              title=\"Convert this dataframe to an interactive table.\"\n",
              "              style=\"display:none;\">\n",
              "        \n",
              "  <svg xmlns=\"http://www.w3.org/2000/svg\" height=\"24px\"viewBox=\"0 0 24 24\"\n",
              "       width=\"24px\">\n",
              "    <path d=\"M0 0h24v24H0V0z\" fill=\"none\"/>\n",
              "    <path d=\"M18.56 5.44l.94 2.06.94-2.06 2.06-.94-2.06-.94-.94-2.06-.94 2.06-2.06.94zm-11 1L8.5 8.5l.94-2.06 2.06-.94-2.06-.94L8.5 2.5l-.94 2.06-2.06.94zm10 10l.94 2.06.94-2.06 2.06-.94-2.06-.94-.94-2.06-.94 2.06-2.06.94z\"/><path d=\"M17.41 7.96l-1.37-1.37c-.4-.4-.92-.59-1.43-.59-.52 0-1.04.2-1.43.59L10.3 9.45l-7.72 7.72c-.78.78-.78 2.05 0 2.83L4 21.41c.39.39.9.59 1.41.59.51 0 1.02-.2 1.41-.59l7.78-7.78 2.81-2.81c.8-.78.8-2.07 0-2.86zM5.41 20L4 18.59l7.72-7.72 1.47 1.35L5.41 20z\"/>\n",
              "  </svg>\n",
              "      </button>\n",
              "      \n",
              "  <style>\n",
              "    .colab-df-container {\n",
              "      display:flex;\n",
              "      flex-wrap:wrap;\n",
              "      gap: 12px;\n",
              "    }\n",
              "\n",
              "    .colab-df-convert {\n",
              "      background-color: #E8F0FE;\n",
              "      border: none;\n",
              "      border-radius: 50%;\n",
              "      cursor: pointer;\n",
              "      display: none;\n",
              "      fill: #1967D2;\n",
              "      height: 32px;\n",
              "      padding: 0 0 0 0;\n",
              "      width: 32px;\n",
              "    }\n",
              "\n",
              "    .colab-df-convert:hover {\n",
              "      background-color: #E2EBFA;\n",
              "      box-shadow: 0px 1px 2px rgba(60, 64, 67, 0.3), 0px 1px 3px 1px rgba(60, 64, 67, 0.15);\n",
              "      fill: #174EA6;\n",
              "    }\n",
              "\n",
              "    [theme=dark] .colab-df-convert {\n",
              "      background-color: #3B4455;\n",
              "      fill: #D2E3FC;\n",
              "    }\n",
              "\n",
              "    [theme=dark] .colab-df-convert:hover {\n",
              "      background-color: #434B5C;\n",
              "      box-shadow: 0px 1px 3px 1px rgba(0, 0, 0, 0.15);\n",
              "      filter: drop-shadow(0px 1px 2px rgba(0, 0, 0, 0.3));\n",
              "      fill: #FFFFFF;\n",
              "    }\n",
              "  </style>\n",
              "\n",
              "      <script>\n",
              "        const buttonEl =\n",
              "          document.querySelector('#df-61f39701-96dd-4796-9c84-82722970b204 button.colab-df-convert');\n",
              "        buttonEl.style.display =\n",
              "          google.colab.kernel.accessAllowed ? 'block' : 'none';\n",
              "\n",
              "        async function convertToInteractive(key) {\n",
              "          const element = document.querySelector('#df-61f39701-96dd-4796-9c84-82722970b204');\n",
              "          const dataTable =\n",
              "            await google.colab.kernel.invokeFunction('convertToInteractive',\n",
              "                                                     [key], {});\n",
              "          if (!dataTable) return;\n",
              "\n",
              "          const docLinkHtml = 'Like what you see? Visit the ' +\n",
              "            '<a target=\"_blank\" href=https://colab.research.google.com/notebooks/data_table.ipynb>data table notebook</a>'\n",
              "            + ' to learn more about interactive tables.';\n",
              "          element.innerHTML = '';\n",
              "          dataTable['output_type'] = 'display_data';\n",
              "          await google.colab.output.renderOutput(dataTable, element);\n",
              "          const docLink = document.createElement('div');\n",
              "          docLink.innerHTML = docLinkHtml;\n",
              "          element.appendChild(docLink);\n",
              "        }\n",
              "      </script>\n",
              "    </div>\n",
              "  </div>\n",
              "  "
            ]
          },
          "metadata": {},
          "execution_count": 79
        }
      ]
    },
    {
      "cell_type": "markdown",
      "source": [
        "Our features are ready for training. Now, it's time to prepare the labels.\n",
        "\n",
        "📌 Print y to take a look at it."
      ],
      "metadata": {
        "id": "CDfWrhoGULsZ"
      }
    },
    {
      "cell_type": "code",
      "source": [
        "# Print the y array\n",
        "y"
      ],
      "metadata": {
        "id": "BEy9qFWtUTm4",
        "outputId": "f1dd1cc3-dd08-4420-b861-886236826c4c",
        "colab": {
          "base_uri": "https://localhost:8080/"
        }
      },
      "execution_count": 81,
      "outputs": [
        {
          "output_type": "execute_result",
          "data": {
            "text/plain": [
              "0       3\n",
              "1       2\n",
              "2       2\n",
              "3       2\n",
              "4       2\n",
              "       ..\n",
              "8727    1\n",
              "8728    1\n",
              "8729    1\n",
              "8730    1\n",
              "8731    1\n",
              "Name: ClassId, Length: 8732, dtype: int64"
            ]
          },
          "metadata": {},
          "execution_count": 81
        }
      ]
    },
    {
      "cell_type": "markdown",
      "source": [
        "**Splitting**\n",
        "\n",
        "Great, that worked out as we wanted it. Now, we split the dataset into training, validation and test datasets. In general, the ratio for splitting is 80% for training, 10% for validation and 10% for test sets.\n",
        "\n",
        "📌 Use train_test_split function of the sklearn library."
      ],
      "metadata": {
        "id": "lCWQ2uz7UoI0"
      }
    },
    {
      "cell_type": "code",
      "source": [
        "# First, create X_train, y_train and X_temporary and y_temporary datasets from X and y.\n",
        "X_train, X_temporary ,y_train ,y_temporary = train_test_split(X,y,train_size=0.8)\n",
        "\n",
        "# Using the X_temporary and y_temporary dataset we just created create validaiton and test datasets.\n",
        "X_val ,X_test ,y_val,y_test = train_test_split(X_temporary,y_temporary,train_size=0.5)"
      ],
      "metadata": {
        "id": "MPhqJ0IzVHr_"
      },
      "execution_count": 82,
      "outputs": []
    },
    {
      "cell_type": "markdown",
      "source": [
        "Let's print the total length of the initial dataset and lengths of the newly created datasets to check our results.\n",
        "\n",
        "📌 Use the len() function to print the lengths."
      ],
      "metadata": {
        "id": "3hSiw0RwVMrH"
      }
    },
    {
      "cell_type": "code",
      "source": [
        "# Print the lengths of the X, X_train, X_val and X_test\n",
        "print(f'Length of data set {len(X)}')\n",
        "print(f'Length of train data set {len(X_train)}')\n",
        "print(f'Length of validation data set {len(X_val)}')\n",
        "print(f'Length of test data set {len(X_test)}')"
      ],
      "metadata": {
        "id": "pYwC4nbHVWxq",
        "outputId": "40200694-517e-43e5-b29a-d978fab705ea",
        "colab": {
          "base_uri": "https://localhost:8080/"
        }
      },
      "execution_count": 83,
      "outputs": [
        {
          "output_type": "stream",
          "name": "stdout",
          "text": [
            "Length of data set 8732\n",
            "Length of train data set 6985\n",
            "Length of validation data set 873\n",
            "Length of test data set 874\n"
          ]
        }
      ]
    },
    {
      "cell_type": "code",
      "source": [
        "# Print the lengths of the y, y_train, y_val and y_test\n",
        "print(f'Length of data set {len(y)}')\n",
        "print(f'Length of train data set {len(y_train)}')\n",
        "print(f'Length of validation data set {len(y_val)}')\n",
        "print(f'Length of test data set {len(y_test)}')"
      ],
      "metadata": {
        "id": "f2pgVqvqVYuc",
        "outputId": "bb152ab2-e262-4233-dcfb-6036a4e6fd9e",
        "colab": {
          "base_uri": "https://localhost:8080/"
        }
      },
      "execution_count": 84,
      "outputs": [
        {
          "output_type": "stream",
          "name": "stdout",
          "text": [
            "Length of data set 8732\n",
            "Length of train data set 6985\n",
            "Length of validation data set 873\n",
            "Length of test data set 874\n"
          ]
        }
      ]
    },
    {
      "cell_type": "markdown",
      "source": [
        "**Bu veri setlerini bilgisayarınıza kaydedin.**"
      ],
      "metadata": {
        "id": "P7nKISBhV-7l"
      }
    },
    {
      "cell_type": "code",
      "source": [
        "X_train.to_csv('./drive/MyDrive/UrbanSoundMyFolder/Image_X_train.csv')\n",
        "X_val.to_csv('./drive/MyDrive/UrbanSoundMyFolder/Image_X_val.csv')\n",
        "X_test.to_csv('./drive/MyDrive/UrbanSoundMyFolder/Image_X_test.csv')\n",
        "\n",
        "y_train.to_csv('./drive/MyDrive/UrbanSoundMyFolder/Image_y_train.csv')\n",
        "y_val.to_csv('./drive/MyDrive/UrbanSoundMyFolder/Image_y_val.csv')\n",
        "y_test.to_csv('./drive/MyDrive/UrbanSoundMyFolder/Image_y_test.csv')\n"
      ],
      "metadata": {
        "id": "_cOR6DvwV8IX"
      },
      "execution_count": 85,
      "outputs": []
    }
  ]
}