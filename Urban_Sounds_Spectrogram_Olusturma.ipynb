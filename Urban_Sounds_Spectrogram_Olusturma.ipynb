{
  "nbformat": 4,
  "nbformat_minor": 0,
  "metadata": {
    "colab": {
      "provenance": [],
      "authorship_tag": "ABX9TyMH+BmMhJeQsqqfJQNovLU8",
      "include_colab_link": true
    },
    "kernelspec": {
      "name": "python3",
      "display_name": "Python 3"
    },
    "language_info": {
      "name": "python"
    }
  },
  "cells": [
    {
      "cell_type": "markdown",
      "metadata": {
        "id": "view-in-github",
        "colab_type": "text"
      },
      "source": [
        "<a href=\"https://colab.research.google.com/github/gr-uzun/urban-sounds/blob/main/Urban_Sounds_Spectrogram_Olusturma.ipynb\" target=\"_parent\"><img src=\"https://colab.research.google.com/assets/colab-badge.svg\" alt=\"Open In Colab\"/></a>"
      ]
    },
    {
      "cell_type": "markdown",
      "source": [
        "**Load an Unzip file UrbanSound8k** \n",
        "\n",
        "https://zenodo.org/record/1203745/files/UrbanSound8K.tar.gz"
      ],
      "metadata": {
        "id": "N02BXELJfg3H"
      }
    },
    {
      "cell_type": "code",
      "source": [
        "# Unzip dataset\n",
        "!wget https://zenodo.org/record/1203745/files/UrbanSound8K.tar.gz -O urban8k.tgz\n",
        "!tar -xzf urban8k.tgz\n",
        "!rm urban8k.tgz"
      ],
      "metadata": {
        "colab": {
          "base_uri": "https://localhost:8080/"
        },
        "id": "mS1e7pnyfXzA",
        "outputId": "df8a3ca5-fd33-45bf-bd7b-70945a9a77f9"
      },
      "execution_count": 1,
      "outputs": [
        {
          "output_type": "stream",
          "name": "stdout",
          "text": [
            "--2022-09-30 13:04:32--  https://zenodo.org/record/1203745/files/UrbanSound8K.tar.gz\n",
            "Resolving zenodo.org (zenodo.org)... 188.184.117.155\n",
            "Connecting to zenodo.org (zenodo.org)|188.184.117.155|:443... connected.\n",
            "HTTP request sent, awaiting response... 200 OK\n",
            "Length: 6023741708 (5.6G) [application/octet-stream]\n",
            "Saving to: ‘urban8k.tgz’\n",
            "\n",
            "urban8k.tgz         100%[===================>]   5.61G  21.6MB/s    in 4m 37s  \n",
            "\n",
            "2022-09-30 13:09:10 (20.8 MB/s) - ‘urban8k.tgz’ saved [6023741708/6023741708]\n",
            "\n"
          ]
        }
      ]
    },
    {
      "cell_type": "markdown",
      "source": [
        "**Importing the required libraries**"
      ],
      "metadata": {
        "id": "l3Fd7EvhfK94"
      }
    },
    {
      "cell_type": "code",
      "execution_count": 3,
      "metadata": {
        "id": "sSYIQ49me4hK"
      },
      "outputs": [],
      "source": [
        "# Import TensorFlow\n",
        "import tensorflow as tf\n",
        "\n",
        "# Import Numpy and Matplotlib\n",
        "import numpy as np\n",
        "import matplotlib.pyplot as plt\n",
        "\n",
        "# Import librosa\n",
        "import librosa"
      ]
    },
    {
      "cell_type": "markdown",
      "source": [
        "Ses dosyalarının spectrogramlarını oluşturun.\n",
        "\n",
        "Kolaylık olması için aşağıdaki fonksiyonu kullanabilirsiniz.\n",
        "\n",
        "create_spectrogram fonksiyonuna, okuduğunuz ses dosyasını gönderdiğinizde size hazırlanmış spectrogramı dönecektir."
      ],
      "metadata": {
        "id": "996UyLEpj7cy"
      }
    },
    {
      "cell_type": "code",
      "source": [
        "def create_spectrogram(y) :\n",
        "  spec = librosa.feature.melspectrogram(y=y)\n",
        "  spec_conv = librosa.amplitude_to_db(spec, ref= np.max)\n",
        "  return spec_conv"
      ],
      "metadata": {
        "id": "iQJhYAe8kWnx"
      },
      "execution_count": 4,
      "outputs": []
    },
    {
      "cell_type": "markdown",
      "source": [
        "**Örnek ses dosyasını oku.**"
      ],
      "metadata": {
        "id": "pC9mpTnipsko"
      }
    },
    {
      "cell_type": "code",
      "source": [
        "sample_audio_file =  './UrbanSound8K/audio/fold2/102871-8-0-1.wav'\n",
        "\n",
        "audio_time_series,sampling_rate = librosa.load(sample_audio_file)\n",
        "\n",
        "print(f'Audio_time_series : type(audio_time_series)')\n",
        "\n",
        "print(f'Type(audio_time_series) : {type(audio_time_series)}')\n",
        "\n",
        "print(f'Shape : {audio_time_series.shape}')\n"
      ],
      "metadata": {
        "colab": {
          "base_uri": "https://localhost:8080/"
        },
        "id": "Uxtoae2wnDo9",
        "outputId": "9b11eb1c-1ada-49d9-e5ee-f17263df39eb"
      },
      "execution_count": 12,
      "outputs": [
        {
          "output_type": "stream",
          "name": "stdout",
          "text": [
            "Audio_time_series : type(audio_time_series)\n",
            "Type(audio_time_series) : <class 'numpy.ndarray'>\n",
            "Shape : (88200,)\n"
          ]
        }
      ]
    },
    {
      "cell_type": "markdown",
      "source": [
        "**Örnek Ses Dosyasını görselleştir.**"
      ],
      "metadata": {
        "id": "sR5zarGsp2ID"
      }
    },
    {
      "cell_type": "code",
      "source": [
        "plt.figure(figsize=(12,4))\n",
        "plt.plot(audio_time_series)\n",
        "plt.show()"
      ],
      "metadata": {
        "colab": {
          "base_uri": "https://localhost:8080/",
          "height": 265
        },
        "id": "iEACmUYhp-t5",
        "outputId": "3e632a6e-84ed-4069-814f-3a19c1057068"
      },
      "execution_count": 13,
      "outputs": [
        {
          "output_type": "display_data",
          "data": {
            "text/plain": [
              "<Figure size 864x288 with 1 Axes>"
            ],
            "image/png": "[encoded data removed]"
          },
          "metadata": {
            "needs_background": "light"
          }
        }
      ]
    }
  ]
}